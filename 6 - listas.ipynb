{
 "cells": [
  {
   "attachments": {},
   "cell_type": "markdown",
   "metadata": {},
   "source": [
    "# Revisão Python \n",
    "**Instrutor:** Noah Diunkz\n",
    "\n",
    "**telegram:** @diunkz\n",
    "\n",
    "**e-mail:** jqmj@icomp.ufam.edu.br"
   ]
  },
  {
   "attachments": {},
   "cell_type": "markdown",
   "metadata": {},
   "source": [
    "# Sequences\n",
    "\n",
    "Representam conjuntos de elementos ordenados finitos cujos elementos recebem índices numéricos.\n",
    "\n",
    "Seus elementos podem ser recuperados através dos índices, isto é, a posição em que se encontram dentro da sequence.\n",
    "\n",
    "Dada uma sequence de N elementos, seus elementos receberão índices de 0 … N-1.\n",
    "\n",
    "Às sequences podem ser classificadas em dois tipos:\n",
    "\n",
    "**Mutáveis**: Listas\n",
    "\n",
    "**Imutáveis**: Tuplas e Strings"
   ]
  },
  {
   "attachments": {},
   "cell_type": "markdown",
   "metadata": {},
   "source": [
    "## Listas\n",
    "\n",
    "Listas são sequences mutáveis e heterogêneas.\n",
    "\n",
    "**Podem ser construídas:**\n",
    "\n",
    "Utilizando a função *list()*\n",
    "\n",
    "Enumerando seus elementos entre colchetes [ ] \n",
    "\n",
    "Seus elementos podem ser recuperados pelo mecanismo de indexação (*indexing*).\n",
    "\n",
    "É possível recuperar somente um pequeno conjunto de elementos da lista por meio do mecanismo de fatiamento (*slicing*)."
   ]
  },
  {
   "cell_type": "code",
   "execution_count": null,
   "metadata": {},
   "outputs": [],
   "source": [
    "# criando uma lista com a função ‘list’\n",
    "# lista = list()\n",
    "# print(lista)\n",
    "# print(type(lista))\n",
    "\n",
    "# criando uma lista enumerando seus elementos\n",
    "lista = [1, 2, 3, 4, 5]\n",
    "print(lista)\n",
    "print(type(lista))"
   ]
  },
  {
   "attachments": {},
   "cell_type": "markdown",
   "metadata": {},
   "source": [
    "Quando uma lista é criada seus elementos recebem índices numéricos de 0 a n-1."
   ]
  },
  {
   "cell_type": "code",
   "execution_count": null,
   "metadata": {},
   "outputs": [],
   "source": [
    "# exemplo indexing\n",
    "\n",
    "lista = [17, 81, 56, 23, 98, 42, 37]\n",
    "\n",
    "# recuperando valores da lista por indexação\n",
    "# print(lista[2])\n",
    "# print(lista[3])\n",
    "\n",
    "# lista[3] = 300 \n",
    "# print(lista[3])\n",
    "\n",
    "numero = lista[5]\n",
    "print(numero)"
   ]
  },
  {
   "attachments": {},
   "cell_type": "markdown",
   "metadata": {},
   "source": [
    "## Indexação reversa\n",
    "\n",
    "Adicionalmente, os elementos de uma lista também recebem índices negativos de -n a -1."
   ]
  },
  {
   "cell_type": "code",
   "execution_count": null,
   "metadata": {},
   "outputs": [],
   "source": [
    "# exemplo indexação reversa \n",
    "\n",
    "lista = [17, 81, 56, 23, 98, 42, 37]\n",
    "\n",
    "# recuperando valores da lista por indexação reversa\n",
    "print(lista[-2])\n",
    "print(lista[-5])\n",
    "print(lista[-1]) \n",
    "\n",
    "numero = lista[-3]\n",
    "print(numero)\n"
   ]
  },
  {
   "attachments": {},
   "cell_type": "markdown",
   "metadata": {},
   "source": [
    "## Fatiamento (Slicing)\n",
    "\n",
    "Dados dois elementos a e b de uma lista L, e cujos respectivos índices são ia e ib.\n",
    "\n",
    "Podemos recuperar os elementos de a até b utilizando o mecanismo de fatiamento.\n",
    "\n",
    "Para isso, basta passar os índices ia e ib+1 dos elementos dentro de colchetes e separados por dois pontos (:).\n",
    "\n",
    "**L[ia:ib+1]**\n",
    "\n",
    "Toda operação de fatiamento cria uma nova lista!"
   ]
  },
  {
   "cell_type": "code",
   "execution_count": null,
   "metadata": {},
   "outputs": [],
   "source": [
    "# exemplo slicing\n",
    "\n",
    "lista = [17, 81, 56, 23, 98, 42, 37]\n",
    "\n",
    "# para recuperar os elementos de 81 a 98:\n",
    "\n",
    "lista_nova = lista[1:5]\n",
    "lista_nova"
   ]
  },
  {
   "cell_type": "code",
   "execution_count": 10,
   "metadata": {},
   "outputs": [
    {
     "data": {
      "text/plain": [
       "[17, 81, 56, 23, 98]"
      ]
     },
     "execution_count": 10,
     "metadata": {},
     "output_type": "execute_result"
    }
   ],
   "source": [
    "# quando desejamos recuperar desde o primeiro elemento o índice inicial pode ser omitido:\n",
    "\n",
    "lista[:5]"
   ]
  },
  {
   "cell_type": "code",
   "execution_count": 11,
   "metadata": {},
   "outputs": [
    {
     "data": {
      "text/plain": [
       "[56, 23, 98, 42, 37]"
      ]
     },
     "execution_count": 11,
     "metadata": {},
     "output_type": "execute_result"
    }
   ],
   "source": [
    "# da mesma maneira, quando desejamos fatiar até o último elemento o índice final pode ser omitido:\n",
    "\n",
    "lista[2:]"
   ]
  },
  {
   "cell_type": "code",
   "execution_count": 13,
   "metadata": {},
   "outputs": [
    {
     "data": {
      "text/plain": [
       "[81, 56, 23, 98]"
      ]
     },
     "execution_count": 13,
     "metadata": {},
     "output_type": "execute_result"
    }
   ],
   "source": [
    "# os índices negativos também são aceitos em fatiamentos:\n",
    "lista = [17, 81, 56, 23, 98, 42, 37]\n",
    "\n",
    "lista[-6:-2]"
   ]
  },
  {
   "cell_type": "code",
   "execution_count": 14,
   "metadata": {},
   "outputs": [
    {
     "data": {
      "text/plain": [
       "[17, 81]"
      ]
     },
     "execution_count": 14,
     "metadata": {},
     "output_type": "execute_result"
    }
   ],
   "source": [
    "lista[:-5]"
   ]
  },
  {
   "cell_type": "code",
   "execution_count": 15,
   "metadata": {},
   "outputs": [
    {
     "data": {
      "text/plain": [
       "[23, 98, 42, 37]"
      ]
     },
     "execution_count": 15,
     "metadata": {},
     "output_type": "execute_result"
    }
   ],
   "source": [
    "lista[-4:]"
   ]
  },
  {
   "cell_type": "code",
   "execution_count": 16,
   "metadata": {},
   "outputs": [
    {
     "name": "stdout",
     "output_type": "stream",
     "text": [
      "[56, 23, 98]\n",
      "[17, 81, 56, 23, 98]\n",
      "[81, 56, 23, 98]\n",
      "[56, 23, 98]\n",
      "<class 'list'>\n",
      "[17, 81, 56, 23, 98, 42, 37]\n"
     ]
    }
   ],
   "source": [
    "# exemplo slicing\n",
    "lista = [17, 81, 56, 23, 98, 42, 37]\n",
    "\n",
    "# recuperando sublistas por fatiamento\n",
    "print(lista[2:5]) \n",
    "print(lista[:5]) \n",
    "print(lista[-6:-2])\n",
    "\n",
    "sublista = lista[2:5] \n",
    "print(sublista)\n",
    "print(type(sublista))\n",
    "\n",
    "nova_lista = lista[:] \n",
    "print(nova_lista)"
   ]
  },
  {
   "attachments": {},
   "cell_type": "markdown",
   "metadata": {},
   "source": [
    "## Fatiamento de listas - Passo\n",
    "\n",
    "O mecanismo de fatiamento ainda permite um terceiro parâmetro, o passo, ele especifica saltos nos elementos."
   ]
  },
  {
   "cell_type": "code",
   "execution_count": 17,
   "metadata": {},
   "outputs": [
    {
     "data": {
      "text/plain": [
       "[17, 56, 98]"
      ]
     },
     "execution_count": 17,
     "metadata": {},
     "output_type": "execute_result"
    }
   ],
   "source": [
    "# exemplo slicing - passo\n",
    "lista = [17, 81, 56, 23, 98, 42, 37]\n",
    "\n",
    "lista[:6:2]"
   ]
  },
  {
   "cell_type": "code",
   "execution_count": 18,
   "metadata": {},
   "outputs": [
    {
     "data": {
      "text/plain": [
       "[17, 23, 37]"
      ]
     },
     "execution_count": 18,
     "metadata": {},
     "output_type": "execute_result"
    }
   ],
   "source": [
    "lista[::3]"
   ]
  },
  {
   "attachments": {},
   "cell_type": "markdown",
   "metadata": {},
   "source": [
    "O passo também pode ser um valor negativo. Neste caso ele especifica saltos na ordem reversa dos elementos."
   ]
  },
  {
   "cell_type": "code",
   "execution_count": 19,
   "metadata": {},
   "outputs": [
    {
     "data": {
      "text/plain": [
       "[42, 98, 23, 56]"
      ]
     },
     "execution_count": 19,
     "metadata": {},
     "output_type": "execute_result"
    }
   ],
   "source": [
    "lista = [17, 81, 56, 23, 98, 42, 37]\n",
    "\n",
    "lista[5:1:-1]"
   ]
  },
  {
   "attachments": {},
   "cell_type": "markdown",
   "metadata": {},
   "source": [
    "O método *append()* pode ser utilizado para inserir novos elementos ao final de uma lista."
   ]
  },
  {
   "cell_type": "code",
   "execution_count": 20,
   "metadata": {},
   "outputs": [
    {
     "data": {
      "text/plain": [
       "[1, 2, 3, 4, 5, 6]"
      ]
     },
     "execution_count": 20,
     "metadata": {},
     "output_type": "execute_result"
    }
   ],
   "source": [
    "lista = [1, 2, 3, 4, 5]\n",
    "\n",
    "lista.append(6)\n",
    "\n",
    "lista"
   ]
  },
  {
   "attachments": {},
   "cell_type": "markdown",
   "metadata": {},
   "source": [
    "O método *insert()* pode ser utilizado para inserir novos elementos numa posição indicada por um índice.\n",
    "\n",
    "Basicamente ele insere o valor na posição indicada e desloca os outros elementos para a direita"
   ]
  },
  {
   "cell_type": "code",
   "execution_count": 21,
   "metadata": {},
   "outputs": [
    {
     "data": {
      "text/plain": [
       "[99, 98, 97, 96, 95, 94]"
      ]
     },
     "execution_count": 21,
     "metadata": {},
     "output_type": "execute_result"
    }
   ],
   "source": [
    "lista = [99, 97, 96, 95, 94]\n",
    "\n",
    "lista.insert(1, 98)\n",
    "\n",
    "lista"
   ]
  },
  {
   "attachments": {},
   "cell_type": "markdown",
   "metadata": {},
   "source": [
    "Quando o índice informado for maior que a quantidade de elementos, o método *insert()* funcionará como um *append()*."
   ]
  },
  {
   "cell_type": "code",
   "execution_count": 22,
   "metadata": {},
   "outputs": [
    {
     "data": {
      "text/plain": [
       "[1, 2, 3, 4, 5, 6]"
      ]
     },
     "execution_count": 22,
     "metadata": {},
     "output_type": "execute_result"
    }
   ],
   "source": [
    "lista = [1, 2, 3, 4, 5]\n",
    "\n",
    "lista.insert(100, 6)\n",
    "\n",
    "lista"
   ]
  },
  {
   "attachments": {},
   "cell_type": "markdown",
   "metadata": {},
   "source": [
    "O método *insert()* também aceita índices negativos."
   ]
  },
  {
   "cell_type": "code",
   "execution_count": 23,
   "metadata": {},
   "outputs": [
    {
     "data": {
      "text/plain": [
       "[7, 4, 3, 6, 2, 8]"
      ]
     },
     "execution_count": 23,
     "metadata": {},
     "output_type": "execute_result"
    }
   ],
   "source": [
    "lista = [7, 4, 3, 2, 8]\n",
    "\n",
    "lista.insert(-2, 6)\n",
    "\n",
    "lista"
   ]
  },
  {
   "cell_type": "code",
   "execution_count": 24,
   "metadata": {},
   "outputs": [
    {
     "name": "stdout",
     "output_type": "stream",
     "text": [
      "[17, 81, 56, 23]\n",
      "[17, 81, 56, 23, 3.15149]\n",
      "[17, 81, 56, 23, 3.15149, True]\n",
      "[17, 81, 56, 23, 3.15149, True, 'ABC']\n"
     ]
    }
   ],
   "source": [
    "# exemplo append()\n",
    "lista = [17, 81, 56]\n",
    "\n",
    "# adicionando elemento 23 ao final de uma lista\n",
    "lista.append(23)\n",
    "print(lista)\n",
    "\n",
    "lista.append(3.15149)\n",
    "print(lista)\n",
    "\n",
    "lista.append(True)\n",
    "print(lista)\n",
    "\n",
    "lista.append('ABC')\n",
    "print(lista)"
   ]
  },
  {
   "cell_type": "code",
   "execution_count": 25,
   "metadata": {},
   "outputs": [
    {
     "name": "stdout",
     "output_type": "stream",
     "text": [
      "[17, 23, 81, 56]\n",
      "[False, 17, 23, 81, 56]\n",
      "[False, 17, 23, 'ABC', 81, 56]\n"
     ]
    }
   ],
   "source": [
    "# exemplo insert()\n",
    "lista = [17, 81, 56]\n",
    "\n",
    "# adicionando elemento 23 na posição de índice 1 da lista\n",
    "lista.insert(1, 23)\n",
    "print(lista) \n",
    "\n",
    "lista.insert(0, False)\n",
    "print(lista)\n",
    "\n",
    "lista.insert(3, 'ABC')\n",
    "print(lista)"
   ]
  },
  {
   "attachments": {},
   "cell_type": "markdown",
   "metadata": {},
   "source": [
    "O método *extend()* pode ser utilizado para inserir novos elementos de outra lista (extensão)."
   ]
  },
  {
   "cell_type": "code",
   "execution_count": 27,
   "metadata": {},
   "outputs": [
    {
     "name": "stdout",
     "output_type": "stream",
     "text": [
      "[2, 3, 5, 7, 11, 13]\n",
      "[2, 3, 5, 7, 11, 13, 17, 19, 23]\n"
     ]
    }
   ],
   "source": [
    "# exemplo extend()\n",
    "primos1 = [2, 3, 5, 7]\n",
    "primos2 = [11, 13]\n",
    "\n",
    "# adicionando novos elementos de primos2 em primos1\n",
    "primos1.extend(primos2)\n",
    "print(primos1)\n",
    "\n",
    "# adicionando novos elementos de primos3 em primos1\n",
    "primos3 = [17, 19, 23]\n",
    "primos1.extend(primos3)\n",
    "print(primos1)"
   ]
  },
  {
   "attachments": {},
   "cell_type": "markdown",
   "metadata": {},
   "source": [
    "O método *remove()* pode ser utilizado para remover a primeira ocorrência de um elemento na lista."
   ]
  },
  {
   "cell_type": "code",
   "execution_count": null,
   "metadata": {},
   "outputs": [],
   "source": [
    "# exemplo remove()\n",
    "\n",
    "lista = [5,6,7,1,8,9,1]\n",
    "\n",
    "lista.remove(1)\n",
    "\n",
    "\n",
    "lista"
   ]
  },
  {
   "attachments": {},
   "cell_type": "markdown",
   "metadata": {},
   "source": [
    "O método *pop()* pode ser utilizado para remover um elemento pelo seu índice na lista."
   ]
  },
  {
   "cell_type": "code",
   "execution_count": 32,
   "metadata": {},
   "outputs": [
    {
     "data": {
      "text/plain": [
       "[0, 1, 2, 4, 5]"
      ]
     },
     "execution_count": 32,
     "metadata": {},
     "output_type": "execute_result"
    }
   ],
   "source": [
    "#exemplo pop()\n",
    "\n",
    "lista = [0,1,2,3,4,5]\n",
    "\n",
    "lista.pop(3)\n",
    "\n",
    "lista"
   ]
  },
  {
   "attachments": {},
   "cell_type": "markdown",
   "metadata": {},
   "source": [
    "## Outros métodos de listas:\n",
    "\n",
    "Apresentamos os principais métodos para manipulação de listas, porém existem outros que também podem ser úteis."
   ]
  },
  {
   "attachments": {},
   "cell_type": "markdown",
   "metadata": {},
   "source": [
    "**count(element)**: Retorna a quantidade de ocorrências de um elemento na lista.\n"
   ]
  },
  {
   "cell_type": "code",
   "execution_count": 33,
   "metadata": {},
   "outputs": [
    {
     "data": {
      "text/plain": [
       "6"
      ]
     },
     "execution_count": 33,
     "metadata": {},
     "output_type": "execute_result"
    }
   ],
   "source": [
    "#exemplo count()\n",
    "\n",
    "lista = [1,2,3,1,1,1,1,1]\n",
    "lista.count(1)"
   ]
  },
  {
   "attachments": {},
   "cell_type": "markdown",
   "metadata": {},
   "source": [
    "\n",
    "**reverse()**: Inverte a ordem dos elementos na lista."
   ]
  },
  {
   "cell_type": "code",
   "execution_count": 34,
   "metadata": {},
   "outputs": [
    {
     "data": {
      "text/plain": [
       "[5, 4, 3, 2, 1]"
      ]
     },
     "execution_count": 34,
     "metadata": {},
     "output_type": "execute_result"
    }
   ],
   "source": [
    "#exemplo reverse()\n",
    "\n",
    "lista = [1,2,3,4,5]\n",
    "lista.reverse()\n",
    "lista"
   ]
  },
  {
   "attachments": {},
   "cell_type": "markdown",
   "metadata": {},
   "source": [
    "\n",
    "**sort()**: Ordena os elementos de uma lista."
   ]
  },
  {
   "cell_type": "code",
   "execution_count": 35,
   "metadata": {},
   "outputs": [
    {
     "data": {
      "text/plain": [
       "[1, 2, 3, 4, 6, 7, 8, 9]"
      ]
     },
     "execution_count": 35,
     "metadata": {},
     "output_type": "execute_result"
    }
   ],
   "source": [
    "# exemplo sort()\n",
    "\n",
    "lista = [9, 6, 3, 8, 4, 2, 7, 1]\n",
    "lista.sort()\n",
    "lista"
   ]
  },
  {
   "attachments": {},
   "cell_type": "markdown",
   "metadata": {},
   "source": [
    "**copy()**: Cria uma cópia da lista com seus elementos."
   ]
  },
  {
   "cell_type": "code",
   "execution_count": 36,
   "metadata": {},
   "outputs": [
    {
     "data": {
      "text/plain": [
       "[1, 2, 3, 4]"
      ]
     },
     "execution_count": 36,
     "metadata": {},
     "output_type": "execute_result"
    }
   ],
   "source": [
    "# exemplo copy()\n",
    "\n",
    "lista1 = [1,2,3,4]\n",
    "lista2 = lista1.copy()\n",
    "lista2"
   ]
  },
  {
   "attachments": {},
   "cell_type": "markdown",
   "metadata": {},
   "source": [
    "**clear()**: Remove todos os elementos de uma lista (limpar)."
   ]
  },
  {
   "cell_type": "code",
   "execution_count": 37,
   "metadata": {},
   "outputs": [
    {
     "data": {
      "text/plain": [
       "([], [])"
      ]
     },
     "execution_count": 37,
     "metadata": {},
     "output_type": "execute_result"
    }
   ],
   "source": [
    "# exemplo clear()\n",
    "\n",
    "lista1 = [1,2,3]\n",
    "lista2 = [4,5,6]\n",
    "\n",
    "lista1.clear()\n",
    "lista2.clear()\n",
    "\n",
    "lista1, lista2"
   ]
  },
  {
   "attachments": {},
   "cell_type": "markdown",
   "metadata": {},
   "source": [
    "## Exercícios"
   ]
  },
  {
   "attachments": {},
   "cell_type": "markdown",
   "metadata": {},
   "source": [
    "1 - Construa um programa que leia números inteiros de uma lista, até que o valor zero seja informado. Ao final, imprima a lista inteira."
   ]
  },
  {
   "cell_type": "code",
   "execution_count": null,
   "metadata": {},
   "outputs": [],
   "source": [
    "lista = []\n",
    "x = -1\n",
    "while x != 0:\n",
    "    x = int(input('insira o número inteiro: '))\n",
    "    lista.append(x)\n",
    "print(lista)"
   ]
  },
  {
   "attachments": {},
   "cell_type": "markdown",
   "metadata": {},
   "source": [
    "2 - Faça um programa que leia um número inteiro e em seguida uma lista com 10 números inteiros. Imprima ao final se o número inteiro informado estiver dentro da lista."
   ]
  },
  {
   "cell_type": "code",
   "execution_count": null,
   "metadata": {},
   "outputs": [],
   "source": []
  },
  {
   "attachments": {},
   "cell_type": "markdown",
   "metadata": {},
   "source": [
    "3 - Faça um programa que leia uma lista de 10 números inteiros. Imprima ao final o menor elemento da lista."
   ]
  },
  {
   "cell_type": "code",
   "execution_count": null,
   "metadata": {},
   "outputs": [],
   "source": []
  },
  {
   "attachments": {},
   "cell_type": "markdown",
   "metadata": {},
   "source": [
    "4 - Faça um programa que leia uma lista de 10 números inteiros. Imprima ao final o somatório dos elementos da lista."
   ]
  },
  {
   "cell_type": "code",
   "execution_count": 40,
   "metadata": {},
   "outputs": [
    {
     "name": "stdout",
     "output_type": "stream",
     "text": [
      "somatorio:  65\n"
     ]
    }
   ],
   "source": [
    "lista = list()\n",
    "i = 0\n",
    "while i < 10:\n",
    "    lista.append(int(input('insira o numero inteiro: ')))\n",
    "    i += 1\n",
    "soma = 0\n",
    "while i >= 0:\n",
    "    i -= 1\n",
    "    soma += lista[i]\n",
    "\n",
    "print('somatorio: ', soma)"
   ]
  },
  {
   "cell_type": "code",
   "execution_count": null,
   "metadata": {},
   "outputs": [],
   "source": []
  }
 ],
 "metadata": {
  "kernelspec": {
   "display_name": "Python 3",
   "language": "python",
   "name": "python3"
  },
  "language_info": {
   "codemirror_mode": {
    "name": "ipython",
    "version": 3
   },
   "file_extension": ".py",
   "mimetype": "text/x-python",
   "name": "python",
   "nbconvert_exporter": "python",
   "pygments_lexer": "ipython3",
   "version": "3.9.16"
  },
  "orig_nbformat": 4,
  "vscode": {
   "interpreter": {
    "hash": "f9f85f796d01129d0dd105a088854619f454435301f6ffec2fea96ecbd9be4ac"
   }
  }
 },
 "nbformat": 4,
 "nbformat_minor": 2
}
