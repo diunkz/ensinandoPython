{
 "cells": [
  {
   "attachments": {},
   "cell_type": "markdown",
   "metadata": {},
   "source": [
    "# Revisão Python \n",
    "**Instrutor:** Noah Diunkz\n",
    "\n",
    "**telegram:** @diunkz\n",
    "\n",
    "**e-mail:** jqmj@icomp.ufam.edu.br"
   ]
  },
  {
   "attachments": {},
   "cell_type": "markdown",
   "metadata": {},
   "source": [
    "# Loop - For\n",
    "\n",
    "O loop for em Python é utilizado para iterar sobre uma sequence e outros objetos (iterable).\n",
    "\n",
    "Basicamente, o loop for declara uma variável para receber os valores dos elementos da sequence a cada iteração.\n",
    "\n",
    "Depois de iniciado o loop for continuará até chegar ao final da sequence (último elemento).\n",
    "\n",
    "**in**: Essa palavra-chave pode ser utilizada para verificar se um dado elemento (valor) está presente numa lista.\n"
   ]
  },
  {
   "cell_type": "code",
   "execution_count": 1,
   "metadata": {},
   "outputs": [
    {
     "name": "stdout",
     "output_type": "stream",
     "text": [
      "1\n",
      "2\n",
      "3\n",
      "4\n",
      "5\n"
     ]
    }
   ],
   "source": [
    "# exemplo for\n",
    "\n",
    "lista = [1, 2, 3, 4, 5]\n",
    "\n",
    "for numero in lista:\n",
    "\tprint(numero)"
   ]
  },
  {
   "cell_type": "code",
   "execution_count": 2,
   "metadata": {},
   "outputs": [
    {
     "name": "stdout",
     "output_type": "stream",
     "text": [
      "56\n",
      "23\n",
      "3\n",
      "56\n",
      "23\n",
      "3\n",
      "3\n",
      "17\n",
      "81\n",
      "17\n"
     ]
    }
   ],
   "source": [
    "# exemplo for\n",
    "\n",
    "lista = [17, 81, 17, 3, 3, 23, 56, 3, 23, 56]\n",
    "\n",
    "for n in lista[::-1]:\n",
    "    print(n)"
   ]
  },
  {
   "attachments": {},
   "cell_type": "markdown",
   "metadata": {},
   "source": [
    "## Intervalos - range()\n",
    "\n",
    "Em Python podemos criar intervalos numéricos utilizando a função *range()*.\n",
    "\n",
    "Essa função é uma função geradora (*Generator*) e não cria os elementos no momento de sua execução (*lazy*).\n",
    "\n",
    "Na verdade, essa função cria um objeto (chamado de gerador) que é responsável por calcular e devolver sempre o próximo valor do intervalo.\n",
    "\n",
    "Por essa capacidade a função *range()* geralmente é combinada com loops for ou então utilizada na construção de listas."
   ]
  },
  {
   "attachments": {},
   "cell_type": "markdown",
   "metadata": {},
   "source": [
    "`for n in range(z)`\n",
    "\n",
    "podemos ler como: \n",
    "\n",
    "para um n no alcance(de 0 até z-1, passo 1)\n",
    "\n",
    "o 0 como início e passo 1 são padrões quando não informados"
   ]
  },
  {
   "cell_type": "code",
   "execution_count": 3,
   "metadata": {},
   "outputs": [
    {
     "name": "stdout",
     "output_type": "stream",
     "text": [
      "0\n",
      "1\n",
      "2\n",
      "3\n",
      "4\n",
      "5\n",
      "6\n",
      "7\n",
      "8\n",
      "9\n"
     ]
    }
   ],
   "source": [
    "# exemplo range(z)\n",
    "for n in range(10): \n",
    "    print(n)"
   ]
  },
  {
   "attachments": {},
   "cell_type": "markdown",
   "metadata": {},
   "source": [
    "`for n in range(w,x)`\n",
    "\n",
    "podemos ler como: \n",
    "\n",
    "para um n no alcance(de w até x-1, passo 1)\n",
    "\n",
    "passo 1 é padrão quando não informado"
   ]
  },
  {
   "cell_type": "code",
   "execution_count": 4,
   "metadata": {},
   "outputs": [
    {
     "name": "stdout",
     "output_type": "stream",
     "text": [
      "5\n",
      "6\n",
      "7\n",
      "8\n"
     ]
    }
   ],
   "source": [
    "# exemplo range(w,x)\n",
    "\n",
    "for n in range(5, 9):\n",
    "    print(n)"
   ]
  },
  {
   "attachments": {},
   "cell_type": "markdown",
   "metadata": {},
   "source": [
    "`for n in range(a,b,c)`\n",
    "\n",
    "podemos ler como: \n",
    "\n",
    "para um n no alcance(de a até b-1, com o passo c)"
   ]
  },
  {
   "cell_type": "code",
   "execution_count": 5,
   "metadata": {},
   "outputs": [
    {
     "name": "stdout",
     "output_type": "stream",
     "text": [
      "1\n",
      "3\n",
      "5\n",
      "7\n",
      "9\n",
      "11\n",
      "13\n",
      "15\n",
      "17\n",
      "19\n"
     ]
    }
   ],
   "source": [
    "# exemplo range(a, b, c)\n",
    "\n",
    "for n in range(1, 20, 2):\n",
    "    print(n)"
   ]
  },
  {
   "attachments": {},
   "cell_type": "markdown",
   "metadata": {},
   "source": [
    "quando estamos trabalhando de forma reversa, funciona da seguinte forma\n",
    "\n",
    "**sendo a > b:**\n",
    "\n",
    "`for n in range(a,b,-1)`\n",
    "\n",
    "podemos ler como: \n",
    "\n",
    "para um n no alcance(de a até b+1, com o passo -1)"
   ]
  },
  {
   "cell_type": "code",
   "execution_count": 6,
   "metadata": {},
   "outputs": [
    {
     "name": "stdout",
     "output_type": "stream",
     "text": [
      "20\n",
      "19\n",
      "18\n",
      "17\n",
      "16\n",
      "15\n",
      "14\n",
      "13\n",
      "12\n",
      "11\n",
      "10\n",
      "9\n",
      "8\n",
      "7\n",
      "6\n",
      "5\n",
      "4\n",
      "3\n",
      "2\n"
     ]
    }
   ],
   "source": [
    "# exemplo range(a, b, c)\n",
    "\n",
    "for n in range(20, 1, -1):\n",
    "    print(n)"
   ]
  },
  {
   "cell_type": "code",
   "execution_count": 8,
   "metadata": {},
   "outputs": [
    {
     "name": "stdout",
     "output_type": "stream",
     "text": [
      "17\n",
      "81\n",
      "17\n",
      "3\n",
      "3\n",
      "23\n",
      "56\n",
      "3\n",
      "23\n",
      "56\n"
     ]
    }
   ],
   "source": [
    "# exemplo for utilizando range()\n",
    "# len() retorna o tamanho de alguma coisa, no exemplo retorna o tamanho de uma lista\n",
    "\n",
    "lista = [17, 81, 17, 3, 3, 23, 56, 3, 23, 56]\n",
    "# len(lista)\n",
    "for indice in range(len(lista)):\n",
    "    print(lista[indice])\n"
   ]
  },
  {
   "cell_type": "code",
   "execution_count": 9,
   "metadata": {},
   "outputs": [
    {
     "name": "stdout",
     "output_type": "stream",
     "text": [
      "56\n",
      "23\n",
      "3\n",
      "56\n",
      "23\n",
      "3\n",
      "3\n",
      "17\n",
      "81\n"
     ]
    }
   ],
   "source": [
    "# exemplo for utilizando range() em ordem reversa\n",
    "\n",
    "for indice in range(len(lista)-1, 0, -1):\n",
    "    print(lista[indice])"
   ]
  },
  {
   "attachments": {},
   "cell_type": "markdown",
   "metadata": {},
   "source": [
    "## Funcionalidades\n",
    "\n",
    "Além das funcionalidades já estudadas, Python ainda oferece outras ferramentas interessantes para uso com sequences:\n",
    "\n",
    "**in**: Essa palavra-chave pode ser utilizada para verificar se um dado elemento (valor) está presente numa lista.\n",
    "\n",
    "**any()**: Essa função permite verifica se algum dos elementos de uma lista de booleanos é True. Retorna um valor booleano.\n",
    "\n",
    "**all()**: Essa função permite verifica se todos os elementos de uma lista de booleanos são True. Retorna um valor booleano.\n",
    "\n",
    "**len()**: Essa função retorna um valor inteiro equivalente a quantidade de elementos numa lista.\n"
   ]
  },
  {
   "cell_type": "code",
   "execution_count": 11,
   "metadata": {},
   "outputs": [
    {
     "name": "stdout",
     "output_type": "stream",
     "text": [
      "True\n",
      "False\n",
      "17 está na lista [17, 81, 17, 3, 23, 56]\n",
      "20 não está na lista [17, 81, 17, 3, 23, 56]\n"
     ]
    }
   ],
   "source": [
    "# exemplo - uso do in\n",
    "\n",
    "lista = [17, 81, 17, 3, 23, 56]\n",
    "\n",
    "x = 17 # consta na lista\n",
    "y = 20 # não consta na lista\n",
    "\n",
    "print(x in lista)\n",
    "print(y in lista)\n",
    "\n",
    "if x in lista:\n",
    "    print(x, 'está na lista', lista)\n",
    "\n",
    "if not y in lista:\n",
    "    print(y, 'não está na lista', lista)"
   ]
  },
  {
   "cell_type": "code",
   "execution_count": 12,
   "metadata": {},
   "outputs": [
    {
     "name": "stdout",
     "output_type": "stream",
     "text": [
      "True\n",
      "True\n",
      "False\n"
     ]
    }
   ],
   "source": [
    "# exemplo - uso do any\n",
    "\n",
    "trues = [True, True, True, True]\n",
    "one = [True, False, False, False]\n",
    "falses = [False, False, False, False]\n",
    "\n",
    "print(any(trues))\n",
    "print(any(one))\n",
    "print(any(falses))"
   ]
  },
  {
   "cell_type": "code",
   "execution_count": 13,
   "metadata": {},
   "outputs": [
    {
     "name": "stdout",
     "output_type": "stream",
     "text": [
      "True\n",
      "False\n",
      "False\n"
     ]
    }
   ],
   "source": [
    "# exemplo - uso do all\n",
    "\n",
    "trues = [True, True, True, True]\n",
    "one = [True, False, False, False]\n",
    "falses = [False, False, False, False]\n",
    "\n",
    "print(all(trues))\n",
    "print(all(one))\n",
    "print(all(falses))"
   ]
  },
  {
   "attachments": {},
   "cell_type": "markdown",
   "metadata": {},
   "source": [
    "## Exercícios"
   ]
  },
  {
   "attachments": {},
   "cell_type": "markdown",
   "metadata": {},
   "source": [
    "1 - Dada uma lista de temperaturas da cidade de A temps = [28, 30, 31, 29, 27, 30, 32]. Construa um programa que imprima a menor, a maior e a média das temperaturas (Utilize loop for)."
   ]
  },
  {
   "cell_type": "code",
   "execution_count": null,
   "metadata": {},
   "outputs": [],
   "source": []
  },
  {
   "attachments": {},
   "cell_type": "markdown",
   "metadata": {},
   "source": [
    "2 - Construa um programa que receba uma frase (string) sem acentuação e imprima a quantidade de vogais."
   ]
  },
  {
   "cell_type": "code",
   "execution_count": null,
   "metadata": {},
   "outputs": [],
   "source": []
  },
  {
   "attachments": {},
   "cell_type": "markdown",
   "metadata": {},
   "source": [
    "3 - Construa um programa que leia uma lista de 10 inteiros e verifique se algum é par."
   ]
  },
  {
   "cell_type": "code",
   "execution_count": null,
   "metadata": {},
   "outputs": [],
   "source": []
  },
  {
   "attachments": {},
   "cell_type": "markdown",
   "metadata": {},
   "source": [
    "4 - Construa um programa que leia uma lista de 10 inteiros e verifique se todos são ímpares."
   ]
  },
  {
   "cell_type": "code",
   "execution_count": null,
   "metadata": {},
   "outputs": [],
   "source": []
  }
 ],
 "metadata": {
  "kernelspec": {
   "display_name": "Python 3",
   "language": "python",
   "name": "python3"
  },
  "language_info": {
   "codemirror_mode": {
    "name": "ipython",
    "version": 3
   },
   "file_extension": ".py",
   "mimetype": "text/x-python",
   "name": "python",
   "nbconvert_exporter": "python",
   "pygments_lexer": "ipython3",
   "version": "3.9.16"
  },
  "orig_nbformat": 4,
  "vscode": {
   "interpreter": {
    "hash": "f9f85f796d01129d0dd105a088854619f454435301f6ffec2fea96ecbd9be4ac"
   }
  }
 },
 "nbformat": 4,
 "nbformat_minor": 2
}
