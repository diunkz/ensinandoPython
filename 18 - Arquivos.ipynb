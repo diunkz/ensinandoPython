{
 "cells": [
  {
   "attachments": {},
   "cell_type": "markdown",
   "metadata": {},
   "source": [
    "**Instrutor:** Noah Diunkz\n",
    "\n",
    "**telegram:** @diunkz\n",
    "\n",
    "**e-mail:** jqmj@icomp.ufam.edu.br"
   ]
  },
  {
   "attachments": {},
   "cell_type": "markdown",
   "metadata": {},
   "source": [
    "# Arquivos\n",
    "\n",
    "A manipulação de arquivos é uma parte importante de qualquer aplicativo da web.\n",
    "\n",
    "Python tem várias funções para criar, ler, atualizar e deletar arquivos."
   ]
  },
  {
   "attachments": {},
   "cell_type": "markdown",
   "metadata": {},
   "source": [
    "A função chave para trabalhar com arquivos em Python é a função *open()*.\n",
    "\n",
    "A função *open()* recebe dois parâmetros; nome do arquivo e modo."
   ]
  },
  {
   "attachments": {},
   "cell_type": "markdown",
   "metadata": {},
   "source": [
    "Existem quatro métodos diferentes (modos) para abrir um arquivo:\n",
    "\n",
    "\"r\" - Read (Leitura) - Valor padrão. Abre um arquivo para leitura, erro se o arquivo não existir\n",
    "\n",
    "\"a\" - Append (Anexar) - Abre um arquivo para anexar, cria o arquivo se ele não existir\n",
    "\n",
    "\"w\" - Write (Escrever) - Abre um arquivo para escrita, cria o arquivo se ele não existir\n",
    "\n",
    "\"x\" - Create (Criar) - Cria o arquivo especificado, retorna um erro se o arquivo existir"
   ]
  },
  {
   "attachments": {},
   "cell_type": "markdown",
   "metadata": {},
   "source": [
    "Além disso, você pode especificar se o arquivo deve ser tratado como modo binário ou texto:\n",
    "\n",
    "\"t\" - Texto - Valor padrão. modo de texto\n",
    "\n",
    "\"b\" - Binário - Modo binário (por exemplo, imagens)"
   ]
  },
  {
   "attachments": {},
   "cell_type": "markdown",
   "metadata": {},
   "source": [
    "## Sintaxe\n",
    "\n",
    "Para abrir um arquivo para leitura basta especificar o nome do arquivo:\n",
    "\n",
    "```python\n",
    "f = open(\"arquivo.txt\")\n",
    "```\n",
    "\n",
    "o código acima é o mesmo que:\n",
    "\n",
    "```python\n",
    "f = open(\"demofile.txt\", \"rt\")\n",
    "```\n",
    "\n",
    "*\"r\" para leitura e \"t\" para texto são os valores padrão, não é necessário especificá-los.*\n",
    "\n",
    "**Nota:** Certifique-se de que o arquivo existe, caso contrário, você receberá um erro.\n"
   ]
  },
  {
   "attachments": {},
   "cell_type": "markdown",
   "metadata": {},
   "source": [
    "## Abrindo arquivos\n",
    "\n",
    "Suponha que temos o seguinte arquivo, localizado na mesma pasta do Python:\n",
    "\n",
    "```text\n",
    "Oi, este é um arquivo criado pelo Diunkz,\n",
    "ele é apenas para testes,\n",
    "Boa Sorte!\n",
    "```"
   ]
  },
  {
   "cell_type": "code",
   "execution_count": null,
   "metadata": {},
   "outputs": [],
   "source": [
    "f = open(\"arquivo.txt\", \"r\")\n",
    "\n",
    "print(f.read())"
   ]
  },
  {
   "attachments": {},
   "cell_type": "markdown",
   "metadata": {},
   "source": [
    "Se o arquivo estiver em um local diferente, você terá que especificar o caminho do arquivo."
   ]
  },
  {
   "attachments": {},
   "cell_type": "markdown",
   "metadata": {},
   "source": [
    "## Lendo somentes partes do arquivo\n",
    "\n",
    "Por padrão, o método read() retorna o texto inteiro, mas você também pode especificar quantos caracteres deseja retornar:"
   ]
  },
  {
   "cell_type": "code",
   "execution_count": null,
   "metadata": {},
   "outputs": [],
   "source": [
    "f = open(\"arquivo.txt\", \"r\")\n",
    "print(f.read(5))"
   ]
  },
  {
   "attachments": {},
   "cell_type": "markdown",
   "metadata": {},
   "source": [
    "## Lendo Linhas\n",
    "\n",
    "Você pode retornar uma linha usando o método readline():\n",
    "\n"
   ]
  },
  {
   "cell_type": "code",
   "execution_count": null,
   "metadata": {},
   "outputs": [],
   "source": [
    "# Lendo uma linha do arquivo\n",
    "\n",
    "f = open(\"arquivo.txt\", \"r\")\n",
    "print(f.readline())"
   ]
  },
  {
   "attachments": {},
   "cell_type": "markdown",
   "metadata": {},
   "source": [
    "Chamando *readline()* duas vezes, você pode ler as duas primeiras linhas:"
   ]
  },
  {
   "cell_type": "code",
   "execution_count": null,
   "metadata": {},
   "outputs": [],
   "source": [
    "f = open(\"arquivo.txt\", \"r\")\n",
    "print(f.readline())\n",
    "print(f.readline())"
   ]
  },
  {
   "attachments": {},
   "cell_type": "markdown",
   "metadata": {},
   "source": [
    "Ao percorrer as linhas do arquivo, você pode ler o arquivo inteiro, linha por linha:"
   ]
  },
  {
   "cell_type": "code",
   "execution_count": null,
   "metadata": {},
   "outputs": [],
   "source": [
    "f = open(\"arquivo.txt\", \"r\")\n",
    "for x in f:\n",
    "    print(x)"
   ]
  },
  {
   "attachments": {},
   "cell_type": "markdown",
   "metadata": {},
   "source": [
    "## Fechar arquivos\n",
    "\n",
    "É uma boa prática sempre fechar o arquivo quando terminar de usá-lo."
   ]
  },
  {
   "cell_type": "code",
   "execution_count": null,
   "metadata": {},
   "outputs": [],
   "source": [
    "f = open(\"arquivo.txt\", \"r\")\n",
    "print(f.readline())\n",
    "f.close()"
   ]
  },
  {
   "attachments": {},
   "cell_type": "markdown",
   "metadata": {},
   "source": [
    "**Nota:** Você deve sempre fechar seus arquivos, em alguns casos, devido ao buffer, as alterações feitas em um arquivo podem não aparecer até que você feche o arquivo."
   ]
  },
  {
   "attachments": {},
   "cell_type": "markdown",
   "metadata": {},
   "source": [
    "## Escrevendo no arquivo\n",
    "\n",
    "Para escrever em um arquivo existente, você deve adicionar um parâmetro à função open():\n",
    "\n",
    "\"a\" - Append - será adicionado ao final do arquivo\n",
    "\n",
    "\"w\" - Write - substituirá qualquer conteúdo existente"
   ]
  },
  {
   "cell_type": "code",
   "execution_count": 7,
   "metadata": {},
   "outputs": [],
   "source": [
    "f = open(\"/home/diunkz/algo.txt\", \"a\")\n",
    "f.write(\"\\nAgora o arquivo tem mais conteúdo\")\n",
    "f.close()"
   ]
  },
  {
   "cell_type": "code",
   "execution_count": null,
   "metadata": {},
   "outputs": [],
   "source": [
    "f = open(\"/home/diunkz/algo.txt\", \"r\")\n",
    "print(f.read())"
   ]
  },
  {
   "attachments": {},
   "cell_type": "markdown",
   "metadata": {},
   "source": [
    "## Substituindo o conteúdo\n",
    "\n"
   ]
  },
  {
   "cell_type": "code",
   "execution_count": 9,
   "metadata": {},
   "outputs": [],
   "source": [
    "f = open(\"/home/diunkz/algo.txt\", \"w\")\n",
    "f.write(\"Ops, eu deletei o conteúdo!!!!!!!\")\n",
    "f.close()"
   ]
  },
  {
   "cell_type": "code",
   "execution_count": null,
   "metadata": {},
   "outputs": [],
   "source": [
    "f = open(\"/home/diunkz/algo.txt\", \"r\")\n",
    "print(f.read())"
   ]
  },
  {
   "attachments": {},
   "cell_type": "markdown",
   "metadata": {},
   "source": [
    "## Criando um novo arquivo\n",
    "\n",
    "Para criar um novo arquivo em Python, utilize o método open(), com um dos seguintes parâmetros:\n",
    "\n",
    "\"x\" - Create - criará um arquivo, retornará um erro se o arquivo existir\n",
    "\n",
    "\"a\" - Append - criará um arquivo se o arquivo especificado não existir\n",
    "\n",
    "\"w\" - Write - criará um arquivo se o arquivo especificado não existir"
   ]
  },
  {
   "cell_type": "markdown",
   "metadata": {},
   "source": [
    "Crie um arquivo chamado 'meuarquivo.txt':"
   ]
  },
  {
   "cell_type": "code",
   "execution_count": 13,
   "metadata": {},
   "outputs": [],
   "source": [
    "f = open(\"meuarquivo.txt\", \"x\")"
   ]
  },
  {
   "attachments": {},
   "cell_type": "markdown",
   "metadata": {},
   "source": [
    "\"w\" cria um novo arquivo, caso ele não exista:"
   ]
  },
  {
   "cell_type": "code",
   "execution_count": 17,
   "metadata": {},
   "outputs": [],
   "source": [
    "f = open(\"meuarquivo2.txt\", \"w\")"
   ]
  },
  {
   "attachments": {},
   "cell_type": "markdown",
   "metadata": {},
   "source": [
    "## Deletando arquivos"
   ]
  },
  {
   "attachments": {},
   "cell_type": "markdown",
   "metadata": {},
   "source": [
    "Para excluir um arquivo, você deve importar o módulo os e executar sua função os.remove():"
   ]
  },
  {
   "cell_type": "code",
   "execution_count": 22,
   "metadata": {},
   "outputs": [],
   "source": [
    "import os\n",
    "\n",
    "os.remove(\"meuarquivo.txt\")"
   ]
  },
  {
   "attachments": {},
   "cell_type": "markdown",
   "metadata": {},
   "source": [
    "## Verificando se o arquivo existe:\n",
    "\n",
    "Para evitar erros, verifique se o arquivo existe antes de tentar excluí-lo:"
   ]
  },
  {
   "cell_type": "code",
   "execution_count": null,
   "metadata": {},
   "outputs": [],
   "source": [
    "import os\n",
    "if os.path.exists(\"meuarquivo2.txt\"):\n",
    "  os.remove(\"meuarquivo2.txt\")\n",
    "  print('o arquivo foi removido')\n",
    "else:\n",
    "  print(\"O arquivo não existe\")"
   ]
  },
  {
   "attachments": {},
   "cell_type": "markdown",
   "metadata": {},
   "source": [
    "## Extra: Criando e Deletando Pastas\n",
    "\n",
    "### criando uma pasta\n"
   ]
  },
  {
   "cell_type": "code",
   "execution_count": 20,
   "metadata": {},
   "outputs": [],
   "source": [
    "from os import mkdir\n",
    "mkdir(\"myfolder\")"
   ]
  },
  {
   "attachments": {},
   "cell_type": "markdown",
   "metadata": {},
   "source": [
    "### deletando uma pasta\n"
   ]
  },
  {
   "cell_type": "code",
   "execution_count": 21,
   "metadata": {},
   "outputs": [],
   "source": [
    "from os import rmdir\n",
    "rmdir(\"myfolder\")"
   ]
  },
  {
   "attachments": {},
   "cell_type": "markdown",
   "metadata": {},
   "source": [
    "**Nota:** Você só pode remover pastas vazias"
   ]
  },
  {
   "attachments": {},
   "cell_type": "markdown",
   "metadata": {},
   "source": [
    "## Exercício\n",
    "\n",
    "1 - Crie uma pasta chamada \"minha_pasta\", dentro dela crie um arquivo chamado \"pares.txt\", o conteúdo dele é composto pelos números pares de 1 até 100. Também crie o arquivo \"impares.txt\", que receberá os ímpares de 1 até 100. "
   ]
  },
  {
   "cell_type": "markdown",
   "metadata": {},
   "source": []
  }
 ],
 "metadata": {
  "kernelspec": {
   "display_name": "Python 3",
   "language": "python",
   "name": "python3"
  },
  "language_info": {
   "codemirror_mode": {
    "name": "ipython",
    "version": 3
   },
   "file_extension": ".py",
   "mimetype": "text/x-python",
   "name": "python",
   "nbconvert_exporter": "python",
   "pygments_lexer": "ipython3",
   "version": "3.8.10"
  },
  "orig_nbformat": 4,
  "vscode": {
   "interpreter": {
    "hash": "916dbcbb3f70747c44a77c7bcd40155683ae19c65e1c03b4aa3499c5328201f1"
   }
  }
 },
 "nbformat": 4,
 "nbformat_minor": 2
}
