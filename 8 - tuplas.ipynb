{
 "cells": [
  {
   "attachments": {},
   "cell_type": "markdown",
   "metadata": {},
   "source": [
    "# Revisão Python \n",
    "**Instrutor:** Noah Diunkz\n",
    "\n",
    "**telegram:** @diunkz\n",
    "\n",
    "**e-mail:** jqmj@icomp.ufam.edu.br"
   ]
  },
  {
   "attachments": {},
   "cell_type": "markdown",
   "metadata": {},
   "source": [
    "# Sequence - Tuplas\n",
    "\n",
    "Tuplas são sequences *imutáveis* e *heterogêneas*.\n",
    "\n",
    "**Podem ser construídas:**\n",
    "\n",
    "Utilizando a função *tuple()*.\n",
    "\n",
    "Enumerando seus elementos entre parênteses ( ) \n",
    "\n",
    "Seus elementos podem ser recuperados pelo mecanismo de indexação (indexing).\n",
    "\n",
    "É possível recuperar somente um pequeno conjunto de elementos da lista por meio do mecanismo de fatiamento (slicing)."
   ]
  },
  {
   "cell_type": "code",
   "execution_count": null,
   "metadata": {},
   "outputs": [],
   "source": [
    "# exemplo - tuplas\n",
    "\n",
    "# criando uma tupla com a função tuple\n",
    "tupla = tuple()\n",
    "print(tupla)\n",
    "print(type(tupla))"
   ]
  },
  {
   "cell_type": "code",
   "execution_count": null,
   "metadata": {},
   "outputs": [],
   "source": [
    "# criando uma tupla enumerando seus elementos\n",
    "tupla = (1, 2, 3, 4, 5)\n",
    "print(tupla)"
   ]
  },
  {
   "cell_type": "code",
   "execution_count": null,
   "metadata": {},
   "outputs": [],
   "source": [
    "# criando uma tupla unitária\n",
    "tupla = (1,)\n",
    "print(tupla)"
   ]
  },
  {
   "cell_type": "code",
   "execution_count": null,
   "metadata": {},
   "outputs": [],
   "source": [
    "# exemplo tuplas - indexação\n",
    "tupla = (17, 81, 56, 23, 98, 42, 37)\n",
    "\n",
    "# recuperando valores da tupla por indexação\n",
    "print(tupla[2])\n",
    "print(tupla[3])\n",
    "print(tupla[0])\n",
    "\n",
    "numero = tupla[5]\n",
    "print(numero)"
   ]
  },
  {
   "cell_type": "code",
   "execution_count": null,
   "metadata": {},
   "outputs": [],
   "source": [
    "tupla[2] = 0"
   ]
  },
  {
   "cell_type": "code",
   "execution_count": null,
   "metadata": {},
   "outputs": [],
   "source": [
    "# exemplo tupla - fatiamento (slicing)\n",
    "tupla = (17, 81, 56, 23, 98, 42, 37)\n",
    "\n",
    "# recuperando subtuplas por fatiamento\n",
    "print(tupla[2:5])\n",
    "print(tupla[:5])\n",
    "print(tupla[-6:-2])\n"
   ]
  },
  {
   "cell_type": "code",
   "execution_count": null,
   "metadata": {},
   "outputs": [],
   "source": [
    "# exemplo tupla - fatiamento (slicing)\n",
    "tupla = (17, 81, 56, 23, 98, 42, 37)\n",
    "\n",
    "subtupla = tupla[2:5]\n",
    "print(subtupla)\n",
    "print(type(subtupla))\n",
    "\n",
    "nova_tupla = subtupla[:]\n",
    "print(nova_tupla)"
   ]
  },
  {
   "cell_type": "code",
   "execution_count": null,
   "metadata": {},
   "outputs": [],
   "source": [
    "# exemplo - criando tupla ordenada\n",
    "tupla = (17, 81, 56, 23, 98, 42, 37)\n",
    "\n",
    "# ordenando uma tupla\n",
    "ordenados = sorted(tupla)\n",
    "print(tupla) \n",
    "print(ordenados)\n",
    "\n",
    "ordenados = tuple(ordenados)\n",
    "print(ordenados)"
   ]
  },
  {
   "attachments": {},
   "cell_type": "markdown",
   "metadata": {},
   "source": [
    "## Uso de Tuplas\n",
    "\n",
    "Tuplas geralmente são utilizadas no lugar das listas quando a imutabilidade dos elementos for necessária.\n",
    "\n",
    "Além disso, as bibliotecas que manipulam bancos de dados quase sempre devolvem os registros consultados em tuplas. \n",
    "\n",
    "Isso é feito para garantir a imutabilidade na ordem dos valores recuperados.\n"
   ]
  }
 ],
 "metadata": {
  "kernelspec": {
   "display_name": "Python 3",
   "language": "python",
   "name": "python3"
  },
  "language_info": {
   "codemirror_mode": {
    "name": "ipython",
    "version": 3
   },
   "file_extension": ".py",
   "mimetype": "text/x-python",
   "name": "python",
   "nbconvert_exporter": "python",
   "pygments_lexer": "ipython3",
   "version": "3.9.16"
  },
  "orig_nbformat": 4,
  "vscode": {
   "interpreter": {
    "hash": "f9f85f796d01129d0dd105a088854619f454435301f6ffec2fea96ecbd9be4ac"
   }
  }
 },
 "nbformat": 4,
 "nbformat_minor": 2
}
