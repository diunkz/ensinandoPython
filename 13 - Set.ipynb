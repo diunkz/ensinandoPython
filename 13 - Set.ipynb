{
 "cells": [
  {
   "attachments": {},
   "cell_type": "markdown",
   "metadata": {},
   "source": [
    "**Instrutor:** Noah Diunkz\n",
    "\n",
    "**telegram:** @diunkz\n",
    "\n",
    "**e-mail:** jqmj@icomp.ufam.edu.br"
   ]
  },
  {
   "attachments": {},
   "cell_type": "markdown",
   "metadata": {},
   "source": [
    "# Sets\n",
    "\n",
    "Sets (conjuntos) são usados para armazenar vários itens em uma única variável.\n",
    "\n",
    "Set é um dos 4 tipos de dados embutidos em Python usados para armazenar coleções de dados, os outros 3 são **List**, **Tuple** e **Dictionary**, todos com diferentes qualidades e uso.\n",
    "\n",
    "Um set é uma coleção não ordenada, imutável* e não indexada.\n",
    "\n",
    "Observação: os itens definidos não podem ser alterados, mas você pode remover itens e adicionar novos itens."
   ]
  },
  {
   "cell_type": "code",
   "execution_count": 1,
   "metadata": {},
   "outputs": [],
   "source": [
    "# criação de um set\n",
    "meu_set = {\"melancia\", \"banana\", \"ameixa\"}\n"
   ]
  },
  {
   "cell_type": "code",
   "execution_count": null,
   "metadata": {},
   "outputs": [],
   "source": [
    "meu_set"
   ]
  },
  {
   "cell_type": "code",
   "execution_count": null,
   "metadata": {},
   "outputs": [],
   "source": [
    "type(meu_set)"
   ]
  },
  {
   "attachments": {},
   "cell_type": "markdown",
   "metadata": {},
   "source": [
    "Itens de um set não são ordenados, não podem ser alterados e não permitem valores duplicados."
   ]
  },
  {
   "attachments": {},
   "cell_type": "markdown",
   "metadata": {},
   "source": [
    "## Não ordenado\n",
    "\n",
    "Significa que os itens de um conjunto não possuem uma ordem definida.\n",
    "\n",
    "Os itens definidos podem aparecer em uma ordem diferente toda vez que você os usa e não podem ser referidos por índice ou chave."
   ]
  },
  {
   "cell_type": "code",
   "execution_count": null,
   "metadata": {},
   "outputs": [],
   "source": [
    "meu_set"
   ]
  },
  {
   "cell_type": "code",
   "execution_count": null,
   "metadata": {},
   "outputs": [],
   "source": [
    "meu_set"
   ]
  },
  {
   "cell_type": "code",
   "execution_count": null,
   "metadata": {},
   "outputs": [],
   "source": [
    "meu_set"
   ]
  },
  {
   "attachments": {},
   "cell_type": "markdown",
   "metadata": {},
   "source": [
    "## Imutável\n",
    "\n",
    "Os itens do conjunto não podem ser alterados, o que significa que não podemos alterar os itens após a criação do conjunto.\n",
    "\n",
    "Depois que um conjunto é criado, você não pode alterar seus itens, mas pode remover itens e adicionar novos itens."
   ]
  },
  {
   "attachments": {},
   "cell_type": "markdown",
   "metadata": {},
   "source": [
    "## Duplicatas não permitidas\n",
    "\n",
    "Os conjuntos não podem ter dois itens com o mesmo valor."
   ]
  },
  {
   "cell_type": "code",
   "execution_count": null,
   "metadata": {},
   "outputs": [],
   "source": [
    "meu_set = {\"melancia\", \"banana\", \"ameixa\", \"banana\"}\n",
    "\n",
    "print(meu_set)"
   ]
  },
  {
   "cell_type": "code",
   "execution_count": null,
   "metadata": {},
   "outputs": [],
   "source": [
    "meu_set = {\"melancia\", \"banana\", \"ameixa\", \"banana\", True, 1}\n",
    "\n",
    "print(meu_set)"
   ]
  },
  {
   "attachments": {},
   "cell_type": "markdown",
   "metadata": {},
   "source": [
    "Os valores **True** e **1** são considerados o mesmo valor em conjuntos e são tratados como duplicatas."
   ]
  },
  {
   "attachments": {},
   "cell_type": "markdown",
   "metadata": {},
   "source": [
    "# Acessando Itens"
   ]
  },
  {
   "cell_type": "code",
   "execution_count": null,
   "metadata": {},
   "outputs": [],
   "source": [
    "meu_set = {\"melancia\", \"banana\", \"ameixa\", \"banana\", True}\n",
    "\n",
    "for x in meu_set:\n",
    "    print(x)"
   ]
  },
  {
   "cell_type": "code",
   "execution_count": null,
   "metadata": {},
   "outputs": [],
   "source": [
    "print('melancia' in meu_set)"
   ]
  },
  {
   "attachments": {},
   "cell_type": "markdown",
   "metadata": {},
   "source": [
    "# Adicionando Itens\n",
    "\n",
    "Para adicionar um item a um conjunto, use o método *add()*."
   ]
  },
  {
   "cell_type": "code",
   "execution_count": null,
   "metadata": {},
   "outputs": [],
   "source": [
    "meu_set = {\"melancia\", \"banana\", \"ameixa\"}\n",
    "\n",
    "meu_set"
   ]
  },
  {
   "cell_type": "code",
   "execution_count": null,
   "metadata": {},
   "outputs": [],
   "source": [
    "meu_set.add('pessego')\n",
    "\n",
    "meu_set"
   ]
  },
  {
   "attachments": {},
   "cell_type": "markdown",
   "metadata": {},
   "source": [
    "Para adicionar itens de outro conjunto ao conjunto atual, use o método *update()*."
   ]
  },
  {
   "cell_type": "code",
   "execution_count": 14,
   "metadata": {},
   "outputs": [],
   "source": [
    "meu_set = {\"melancia\", \"banana\", \"ameixa\"}\n",
    "outro_set = {\"morango\", \"kiwi\"}\n",
    "\n",
    "meu_set.update(outro_set)"
   ]
  },
  {
   "cell_type": "code",
   "execution_count": null,
   "metadata": {},
   "outputs": [],
   "source": [
    "meu_set"
   ]
  },
  {
   "attachments": {},
   "cell_type": "markdown",
   "metadata": {},
   "source": [
    "O objeto no método update() não precisa ser um set, pode ser qualquer objeto iterável (tuplas, listas, dicionários etc.)."
   ]
  },
  {
   "cell_type": "code",
   "execution_count": 16,
   "metadata": {},
   "outputs": [],
   "source": [
    "meu_set = {\"melancia\", \"banana\", \"ameixa\"}\n",
    "lista = [\"morango\", \"kiwi\", \"amora\"]\n",
    "\n",
    "meu_set.update(lista)"
   ]
  },
  {
   "cell_type": "code",
   "execution_count": null,
   "metadata": {},
   "outputs": [],
   "source": [
    "meu_set"
   ]
  },
  {
   "attachments": {},
   "cell_type": "markdown",
   "metadata": {},
   "source": [
    "# Removendo Itens\n",
    "\n",
    "Para remover um item em um conjunto, use o método *remove()* ou *discard()*."
   ]
  },
  {
   "cell_type": "code",
   "execution_count": null,
   "metadata": {},
   "outputs": [],
   "source": [
    "meu_set = {\"melancia\", \"banana\", \"ameixa\"}\n",
    "\n",
    "meu_set"
   ]
  },
  {
   "cell_type": "code",
   "execution_count": null,
   "metadata": {},
   "outputs": [],
   "source": [
    "meu_set.remove('banana')\n",
    "\n",
    "meu_set"
   ]
  },
  {
   "attachments": {},
   "cell_type": "markdown",
   "metadata": {},
   "source": [
    "Caso o valor não exista, ele mostrará um erro."
   ]
  },
  {
   "cell_type": "code",
   "execution_count": null,
   "metadata": {},
   "outputs": [],
   "source": [
    "meu_set.remove('banana')"
   ]
  },
  {
   "cell_type": "code",
   "execution_count": null,
   "metadata": {},
   "outputs": [],
   "source": [
    "# removendo banana usando discard()\n",
    "\n",
    "meu_set = {\"melancia\", \"banana\", \"ameixa\"}\n",
    "meu_set.discard('banana')\n",
    "\n",
    "meu_set"
   ]
  },
  {
   "attachments": {},
   "cell_type": "markdown",
   "metadata": {},
   "source": [
    "Se o item a ser removido não existir, discard() NÃO gerará um erro."
   ]
  },
  {
   "cell_type": "code",
   "execution_count": 22,
   "metadata": {},
   "outputs": [],
   "source": [
    "meu_set.discard('banana')"
   ]
  },
  {
   "attachments": {},
   "cell_type": "markdown",
   "metadata": {},
   "source": [
    "Você também pode usar o método *pop()* para remover um item, mas esse método removerá um item aleatório, então você não pterá certeza de qual item será removido.\n",
    "\n",
    "O valor de retorno do método pop() é o item removido."
   ]
  },
  {
   "cell_type": "code",
   "execution_count": null,
   "metadata": {},
   "outputs": [],
   "source": [
    "meu_set = {\"melancia\", \"banana\", \"ameixa\"}\n",
    "\n",
    "x = meu_set.pop()\n",
    "\n",
    "print(meu_set)\n",
    "print(x)\n"
   ]
  },
  {
   "attachments": {},
   "cell_type": "markdown",
   "metadata": {},
   "source": [
    "O método *clear()* esvazia o conjunto:"
   ]
  },
  {
   "cell_type": "code",
   "execution_count": null,
   "metadata": {},
   "outputs": [],
   "source": [
    "meu_set = {\"melancia\", \"banana\", \"ameixa\"}\n",
    "\n",
    "meu_set.clear()\n",
    "meu_set"
   ]
  },
  {
   "attachments": {},
   "cell_type": "markdown",
   "metadata": {},
   "source": [
    "A keyword *del* excluirá o conjunto completamente:"
   ]
  },
  {
   "cell_type": "code",
   "execution_count": 25,
   "metadata": {},
   "outputs": [],
   "source": [
    "del meu_set"
   ]
  },
  {
   "cell_type": "code",
   "execution_count": null,
   "metadata": {},
   "outputs": [],
   "source": [
    "meu_set"
   ]
  }
 ],
 "metadata": {
  "kernelspec": {
   "display_name": "Python 3",
   "language": "python",
   "name": "python3"
  },
  "language_info": {
   "codemirror_mode": {
    "name": "ipython",
    "version": 3
   },
   "file_extension": ".py",
   "mimetype": "text/x-python",
   "name": "python",
   "nbconvert_exporter": "python",
   "pygments_lexer": "ipython3",
   "version": "3.8.10"
  },
  "orig_nbformat": 4,
  "vscode": {
   "interpreter": {
    "hash": "916dbcbb3f70747c44a77c7bcd40155683ae19c65e1c03b4aa3499c5328201f1"
   }
  }
 },
 "nbformat": 4,
 "nbformat_minor": 2
}
