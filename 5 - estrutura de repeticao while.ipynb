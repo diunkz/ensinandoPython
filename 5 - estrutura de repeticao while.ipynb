{
 "cells": [
  {
   "attachments": {},
   "cell_type": "markdown",
   "metadata": {},
   "source": [
    "# Revisão Python \n",
    "**Instrutor:** Noah Diunkz\n",
    "\n",
    "**telegram:** @diunkz\n",
    "\n",
    "**e-mail:** jqmj@icomp.ufam.edu.br"
   ]
  },
  {
   "attachments": {},
   "cell_type": "markdown",
   "metadata": {},
   "source": [
    "# Estruturas de repetição (Loops)\n",
    "\n",
    "Imagine um programa que calcule e liste os 5 primeiros múltiplos de 3:"
   ]
  },
  {
   "cell_type": "code",
   "execution_count": null,
   "metadata": {},
   "outputs": [],
   "source": [
    "print(3 * 0)\n",
    "print(3 * 1)\n",
    "print(3 * 2)\n",
    "print(3 * 3)\n",
    "print(3 * 4)"
   ]
  },
  {
   "attachments": {},
   "cell_type": "markdown",
   "metadata": {},
   "source": [
    "E se fossem os 10 primeiros múltiplos de 3?"
   ]
  },
  {
   "cell_type": "code",
   "execution_count": null,
   "metadata": {},
   "outputs": [],
   "source": [
    "print(3 * 0)\n",
    "print(3 * 1)\n",
    "print(3 * 2)\n",
    "print(3 * 3)\n",
    "print(3 * 4)\n",
    "print(3 * 5)\n",
    "print(3 * 6)\n",
    "print(3 * 7)\n",
    "print(3 * 8)\n",
    "print(3 * 9)"
   ]
  },
  {
   "attachments": {},
   "cell_type": "markdown",
   "metadata": {},
   "source": [
    "E se fossem os 100 primeiros múltiplos?...\n",
    "\n",
    "Para resolver esse e outros problemas que envolvem a execução de uma instrução ou um bloco de instruções, repetidas vezes, a linguagem Python implementa as estruturas de repetição *while* e *for*.\n",
    "\n",
    "Em Python, o loop *while* é utilizado para repetição de instruções quando existe uma condição indicando se devemos continuar ou não com a repetição.\n",
    "\n",
    "O loop for, por sua vez, é mais utilizado para percorrer elementos de uma Sequence (lista, string, tupla) ou então elementos provenientes de Generators (range por exemplo)."
   ]
  },
  {
   "cell_type": "code",
   "execution_count": 1,
   "metadata": {},
   "outputs": [
    {
     "name": "stdout",
     "output_type": "stream",
     "text": [
      "1\n",
      "2\n",
      "3\n",
      "4\n",
      "5\n",
      "Fim\n"
     ]
    }
   ],
   "source": [
    "# exemplo while\n",
    "\n",
    "numero = 1\n",
    "\n",
    "while (numero <= 5):\n",
    "\tprint(numero)\n",
    "\tnumero = numero + 1\n",
    "\n",
    "print('Fim')"
   ]
  },
  {
   "cell_type": "code",
   "execution_count": null,
   "metadata": {},
   "outputs": [],
   "source": [
    "# outra opção\n",
    "\n",
    "numero = 1\n",
    "\n",
    "while (numero < 6):\n",
    "\tprint(numero)\n",
    "\tnumero += 1\n",
    "\n",
    "print('Fim')"
   ]
  },
  {
   "attachments": {},
   "cell_type": "markdown",
   "metadata": {},
   "source": [
    "E se tivéssemos que imprimir os números inteiros de 1 a 5, em ordem decrescente?"
   ]
  },
  {
   "cell_type": "code",
   "execution_count": null,
   "metadata": {},
   "outputs": [],
   "source": [
    "# exemplo while\n",
    "\n",
    "numero = 5\n",
    "\n",
    "while (numero > 0):\n",
    "\tprint(numero)\n",
    "\tnumero = numero - 1\n",
    "\n",
    "print('Fim!')\n"
   ]
  },
  {
   "cell_type": "code",
   "execution_count": 2,
   "metadata": {},
   "outputs": [
    {
     "name": "stdout",
     "output_type": "stream",
     "text": [
      "5\n",
      "4\n",
      "3\n",
      "2\n",
      "1\n",
      "Fim!\n"
     ]
    }
   ],
   "source": [
    "# outra forma\n",
    "\n",
    "numero = 5\n",
    "\n",
    "while (numero >= 1):\n",
    "\tprint(numero)\n",
    "\tnumero -= 1\n",
    "\n",
    "print('Fim!')"
   ]
  },
  {
   "attachments": {},
   "cell_type": "markdown",
   "metadata": {},
   "source": [
    "## Loops com Flags\n",
    "\n",
    "Nos exemplos anteriores, utilizamos uma variável como controle do loop while.\n",
    "\n",
    "Seu valor recebia um incremento ou decremento a cada repetição até ultrapassar um limite.\n",
    "\n",
    "Esse tipo de abordagem é chamado de loop por contagem, contudo, não é a única forma de utilizar o loop while.\n",
    "\n",
    "É possível utilizar uma variável booleana como condição de controle do loop while, isso é chamado de loop por flag ."
   ]
  },
  {
   "cell_type": "code",
   "execution_count": 3,
   "metadata": {},
   "outputs": [
    {
     "name": "stdout",
     "output_type": "stream",
     "text": [
      "2 é par!\n",
      "3 é ímpar!\n",
      "4 é par!\n"
     ]
    }
   ],
   "source": [
    "# loop por flag - exemplo \n",
    "\n",
    "# Leia uma quantidade indeterminada de números e diga se eles são pares ou ímpares.\n",
    "# Seu programa deve finalizar quando 0 (zero) for digitado.\n",
    "\n",
    "continuar = True\n",
    "\n",
    "while continuar:\n",
    "    numero = int(input('Informe um número:'))\n",
    "    if numero == 0:\n",
    "        continuar = False\n",
    "    elif numero % 2 == 0:\n",
    "        print(numero, 'é par!')\n",
    "    else:\n",
    "        print(numero, 'é ímpar!')"
   ]
  },
  {
   "attachments": {},
   "cell_type": "markdown",
   "metadata": {},
   "source": [
    "## Exercícios - Loop While"
   ]
  },
  {
   "attachments": {},
   "cell_type": "markdown",
   "metadata": {},
   "source": [
    "1 - Construa um programa que simule a contagem regressiva de lançamento de um foguete (10, 9, 8 … 3, 2, 1 e Lançar!)."
   ]
  },
  {
   "cell_type": "code",
   "execution_count": null,
   "metadata": {},
   "outputs": [],
   "source": [
    "x = 10\n",
    "\n",
    "while x >= 0:\n",
    "    print(x)\n",
    "    x -= 1\n",
    "print('Fogo!')"
   ]
  },
  {
   "attachments": {},
   "cell_type": "markdown",
   "metadata": {},
   "source": [
    "2 - Construa um programa que imprima os números pares de 2 até 100 (inclusive)."
   ]
  },
  {
   "cell_type": "code",
   "execution_count": null,
   "metadata": {},
   "outputs": [],
   "source": [
    "x = 2\n",
    "\n",
    "while x <= 100:\n",
    "    print(x)\n",
    "    x += 2"
   ]
  },
  {
   "attachments": {},
   "cell_type": "markdown",
   "metadata": {},
   "source": [
    "3 - Construa um programa que imprima as tabuadas de 1 a 15."
   ]
  },
  {
   "cell_type": "code",
   "execution_count": null,
   "metadata": {},
   "outputs": [],
   "source": []
  },
  {
   "attachments": {},
   "cell_type": "markdown",
   "metadata": {},
   "source": [
    "4 - Construa um programa que calcule e imprima a soma dos 'n' primeiro termos do somatório: 1 + ½ + ⅓ + ¼… O valor de ‘n’ deve ser solicitado para o usuário."
   ]
  },
  {
   "cell_type": "code",
   "execution_count": null,
   "metadata": {},
   "outputs": [],
   "source": []
  }
 ],
 "metadata": {
  "kernelspec": {
   "display_name": "Python 3",
   "language": "python",
   "name": "python3"
  },
  "language_info": {
   "codemirror_mode": {
    "name": "ipython",
    "version": 3
   },
   "file_extension": ".py",
   "mimetype": "text/x-python",
   "name": "python",
   "nbconvert_exporter": "python",
   "pygments_lexer": "ipython3",
   "version": "3.9.16"
  },
  "orig_nbformat": 4,
  "vscode": {
   "interpreter": {
    "hash": "f9f85f796d01129d0dd105a088854619f454435301f6ffec2fea96ecbd9be4ac"
   }
  }
 },
 "nbformat": 4,
 "nbformat_minor": 2
}
