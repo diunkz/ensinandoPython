{
 "cells": [
  {
   "attachments": {},
   "cell_type": "markdown",
   "metadata": {},
   "source": [
    "**Instrutor:** Noah Diunkz\n",
    "\n",
    "**telegram:** @diunkz\n",
    "\n",
    "**e-mail:** jqmj@icomp.ufam.edu.br"
   ]
  },
  {
   "attachments": {},
   "cell_type": "markdown",
   "metadata": {},
   "source": [
    "# *args e **kwargs\n",
    "\n",
    "### *args\n",
    "\n",
    "Antes de mais nada, ele não precisa se chamar args, mas precisa ter o *! poderia muito bem ser *alguma_lista ou *xyz. O nome “args” é uma convenção.\n",
    "\n",
    "Imagine uma função em que você precise imprimir o nome de um país e quantas copas do mundo ele ganhou: A Espanha tem 1 título, o Brasil tem 5… Como faríamos?"
   ]
  },
  {
   "cell_type": "code",
   "execution_count": 1,
   "metadata": {},
   "outputs": [],
   "source": [
    "def titulos_copa(pais, *args):\n",
    "    print('País: ', pais)\n",
    "    for algo in args:\n",
    "        print('ano: ', algo)"
   ]
  },
  {
   "attachments": {},
   "cell_type": "markdown",
   "metadata": {},
   "source": [
    "Observe que na função, iteramos sobre args, exibindo cada título passado e que o fato de ser possível iterar sobre uma lista de argumentos nos dá a flexibilidade que precisamos para o nosso caso."
   ]
  },
  {
   "cell_type": "code",
   "execution_count": null,
   "metadata": {},
   "outputs": [],
   "source": [
    "titulos_copa('Brasil', '1958', '1962', '1970', '1994', '2002')"
   ]
  },
  {
   "attachments": {},
   "cell_type": "markdown",
   "metadata": {},
   "source": [
    "Outro exemplo:"
   ]
  },
  {
   "cell_type": "code",
   "execution_count": 7,
   "metadata": {},
   "outputs": [],
   "source": [
    "def adicao(*args):\n",
    "    resultado = 0\n",
    "    \n",
    "    for argumento in args:\n",
    "        resultado += argumento\n",
    "\n",
    "    return resultado"
   ]
  },
  {
   "cell_type": "code",
   "execution_count": null,
   "metadata": {},
   "outputs": [],
   "source": [
    "print(adicao(1, 2))\n",
    "print(adicao(1, 2, 4, 6))\n",
    "print(adicao(1, 2, 4, 6, 8, 10))"
   ]
  },
  {
   "attachments": {},
   "cell_type": "markdown",
   "metadata": {},
   "source": [
    "### **kwargs\n"
   ]
  },
  {
   "attachments": {},
   "cell_type": "markdown",
   "metadata": {},
   "source": [
    "Antes de mais nada, ele não precisa se chamar kwargs, mas precisa ter os **! poderia muito bem ser **algum_dict ou **xyz. O nome “kwargs” é uma convenção.\n",
    "\n",
    "Agora imagine uma situação em que você precise passar diferentes argumentos, talvez para diferentes propósitos. Como ficaria?\n",
    "\n",
    "Usaremos uma função de cálculo de preço como exemplo. Nela, teremos dois argumentos opcionais, discount e tax_percentage:"
   ]
  },
  {
   "cell_type": "code",
   "execution_count": 8,
   "metadata": {},
   "outputs": [],
   "source": [
    "def calcular_preco(valor, **kwargs):\n",
    "    taxa_porcentagem = kwargs.get('taxa_porcentagem')\n",
    "    desconto = kwargs.get('desconto')\n",
    "    if taxa_porcentagem:\n",
    "        valor += valor * (taxa_porcentagem / 100)\n",
    "    if desconto:\n",
    "        valor -= desconto\n",
    "    return valor"
   ]
  },
  {
   "attachments": {},
   "cell_type": "markdown",
   "metadata": {},
   "source": [
    "Já que os argumentos são opcionais, podemos calcular o preço final de um produto sem desconto ou impostos:"
   ]
  },
  {
   "cell_type": "code",
   "execution_count": null,
   "metadata": {},
   "outputs": [],
   "source": [
    "preco_final = calcular_preco(100.0)\n",
    "\n",
    "preco_final"
   ]
  },
  {
   "attachments": {},
   "cell_type": "markdown",
   "metadata": {},
   "source": [
    "Mas também podemos aplicar um desconto a ele:"
   ]
  },
  {
   "cell_type": "code",
   "execution_count": null,
   "metadata": {},
   "outputs": [],
   "source": [
    "preco_final = calcular_preco(100.0, desconto=5.0)\n",
    "\n",
    "preco_final\n"
   ]
  },
  {
   "attachments": {},
   "cell_type": "markdown",
   "metadata": {},
   "source": [
    "Ou adicionar um imposto:"
   ]
  },
  {
   "cell_type": "code",
   "execution_count": null,
   "metadata": {},
   "outputs": [],
   "source": [
    "preco_final = calcular_preco(100.0, taxa_porcentagem=7)\n",
    "\n",
    "preco_final"
   ]
  },
  {
   "attachments": {},
   "cell_type": "markdown",
   "metadata": {},
   "source": [
    "Ou ainda, aplicar um desconto e adicionar um imposto:"
   ]
  },
  {
   "cell_type": "code",
   "execution_count": null,
   "metadata": {},
   "outputs": [],
   "source": [
    "preco_final = calcular_preco(100.0, taxa_porcentagem=7, desconto=5.0)\n",
    "\n",
    "preco_final"
   ]
  },
  {
   "cell_type": "code",
   "execution_count": null,
   "metadata": {},
   "outputs": [],
   "source": [
    "preco_final = calcular_preco(100.0, taxa_porcentagem=7, desconto=5.0, y=10)\n",
    "\n",
    "preco_final"
   ]
  },
  {
   "attachments": {},
   "cell_type": "markdown",
   "metadata": {},
   "source": [
    "## Mas por que usei **kwargs e não *args?\n",
    "\n",
    "Observe no exemplo acima que o nome dos argumentos variáveis é extremamente importante, já que por ele é possível saber se o valor se trata de um imposto ou um desconto a ser aplicado! Não se trata de uma lista de argumentos a serem iterados, e sim de argumentos opcionais com finalidades completamente diferentes, identificados por seus nomes!"
   ]
  },
  {
   "attachments": {},
   "cell_type": "markdown",
   "metadata": {},
   "source": [
    "## Fique atento: \n",
    "\n",
    "a função *args receberá uma **tupla** de argumentos, podendo acessar os itens de acordo.\n",
    "\n",
    "a função **kwargs receberá um **dicionário** de argumentos, podendo acessar os itens de acordo.\n"
   ]
  },
  {
   "attachments": {},
   "cell_type": "markdown",
   "metadata": {},
   "source": [
    "Também é possível combinar *args e **kwargs, mas por hora vamos apenas entender a diferença entre os dois."
   ]
  },
  {
   "attachments": {},
   "cell_type": "markdown",
   "metadata": {},
   "source": [
    "## Exercícios\n",
    "\n",
    "1 - Crie a função criancas() que recebe diversas idades de crianças (0 <= idade <= 12) como argumento, e mostre a menor e a maior delas."
   ]
  },
  {
   "cell_type": "code",
   "execution_count": null,
   "metadata": {},
   "outputs": [],
   "source": []
  },
  {
   "attachments": {},
   "cell_type": "markdown",
   "metadata": {},
   "source": [
    "2 - Crie a função informacoes(), que recebe um nome e sobrenome, e opcionalmente recebe cpf e rg."
   ]
  },
  {
   "cell_type": "code",
   "execution_count": 17,
   "metadata": {},
   "outputs": [],
   "source": []
  },
  {
   "cell_type": "markdown",
   "metadata": {},
   "source": []
  }
 ],
 "metadata": {
  "kernelspec": {
   "display_name": "Python 3",
   "language": "python",
   "name": "python3"
  },
  "language_info": {
   "codemirror_mode": {
    "name": "ipython",
    "version": 3
   },
   "file_extension": ".py",
   "mimetype": "text/x-python",
   "name": "python",
   "nbconvert_exporter": "python",
   "pygments_lexer": "ipython3",
   "version": "3.8.10"
  },
  "orig_nbformat": 4,
  "vscode": {
   "interpreter": {
    "hash": "916dbcbb3f70747c44a77c7bcd40155683ae19c65e1c03b4aa3499c5328201f1"
   }
  }
 },
 "nbformat": 4,
 "nbformat_minor": 2
}
