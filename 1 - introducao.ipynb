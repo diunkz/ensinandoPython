{
 "cells": [
  {
   "attachments": {},
   "cell_type": "markdown",
   "metadata": {},
   "source": [
    "# Revisão Python \n",
    "**Instrutor:** Noah Diunkz\n",
    "\n",
    "**telegram:** @diunkz\n",
    "\n",
    "**e-mail:** jqmj@icomp.ufam.edu.br"
   ]
  },
  {
   "attachments": {},
   "cell_type": "markdown",
   "metadata": {},
   "source": [
    "## Vantagens\n",
    "\n",
    "**Aprendizado**\n",
    "É uma linguagem muito fácil de aprender. Recomendada para iniciantes\n",
    "\n",
    "**Produtividade**\n",
    "Sua sintaxe concisa e enxuta favorece a produtividade.\n",
    "\n",
    "**Portabilidade**\n",
    "O mesmo código pode ser executado em diferentes plataformas.\n",
    "\n",
    "**Comunidade**\n",
    "Muito conteúdo disponível online.\n",
    "\n",
    "**Análise de Dados**\n",
    "Excelente para manipulação, limpeza, tratamento e visualização de dados\n",
    "\n",
    "**Bibliotecas**\n",
    "Inúmeras bibliotecas prontas para tudo que você imaginar!\n"
   ]
  },
  {
   "attachments": {},
   "cell_type": "markdown",
   "metadata": {},
   "source": [
    "## Limitações\n",
    "\n",
    "**Velocidade**\n",
    "Por ser interpretada, em alguns casos pode ser mais “lenta” que outras linguagens.\n",
    "\n",
    "**Mobile**\n",
    "Não é nativa do ambiente mobile.\n",
    "\n",
    "**Memória**\n",
    "Alto consumo de memória em tarefas intensas de processamento."
   ]
  },
  {
   "attachments": {},
   "cell_type": "markdown",
   "metadata": {},
   "source": [
    "## Processo de Interpretação\n",
    "\n",
    "Código fonte (Escrito num editor ou IDE)\n",
    "-> \n",
    "Interpretador (Traduz o código fonte em um código intermediário)\n",
    "-> \n",
    "Código Objeto (Instruções de baixo nível entendíveis pelo interpretador)\n",
    "-> \n",
    "CPU (Executa cada instrução recebida)"
   ]
  },
  {
   "attachments": {},
   "cell_type": "markdown",
   "metadata": {},
   "source": [
    "Ferramentas Necessárias\n",
    "\n",
    "Computador\n",
    "Um computador para desenvolver, executar e testar seus programas\n",
    "\n",
    "Interpretador\n",
    "Acesso a um interpretador Python, esteja ele instalado no seu computador ou disponível online.\n",
    "\n",
    "Editor de texto\n",
    "Existem diversas opções disponíveis para cada perfil de desenvolvedor (Sublime Text, Python.org Shell, Repl.it, Visual Studio Code, PyCharm)"
   ]
  },
  {
   "attachments": {},
   "cell_type": "markdown",
   "metadata": {},
   "source": [
    "## Instalação\n",
    "\n",
    "**Windows / MacOS**\n",
    "\n",
    "https://www.python.org/downloads/\n",
    "\n",
    "**Linux (Ubuntu)**\n",
    "\n",
    "`$ sudo apt install python3`"
   ]
  },
  {
   "attachments": {},
   "cell_type": "markdown",
   "metadata": {},
   "source": [
    "## Interpretador Python\n",
    "\n",
    "**Verificar versão**\n",
    "\n",
    "`$ python3 --version`\n",
    "\n",
    "**Acessando interpretador via terminal/prompt**\n",
    "\n",
    "`$ python3`"
   ]
  }
 ],
 "metadata": {
  "kernelspec": {
   "display_name": "Python 3",
   "language": "python",
   "name": "python3"
  },
  "language_info": {
   "codemirror_mode": {
    "name": "ipython",
    "version": 3
   },
   "file_extension": ".py",
   "mimetype": "text/x-python",
   "name": "python",
   "nbconvert_exporter": "python",
   "pygments_lexer": "ipython3",
   "version": "3.9.16"
  },
  "orig_nbformat": 4,
  "vscode": {
   "interpreter": {
    "hash": "f9f85f796d01129d0dd105a088854619f454435301f6ffec2fea96ecbd9be4ac"
   }
  }
 },
 "nbformat": 4,
 "nbformat_minor": 2
}
