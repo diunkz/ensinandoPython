{
 "cells": [
  {
   "attachments": {},
   "cell_type": "markdown",
   "metadata": {},
   "source": [
    "# Revisão Python \n",
    "**Instrutor:** Noah Diunkz\n",
    "\n",
    "**telegram:** @diunkz\n",
    "\n",
    "**e-mail:** jqmj@icomp.ufam.edu.br"
   ]
  },
  {
   "attachments": {},
   "cell_type": "markdown",
   "metadata": {},
   "source": [
    "# F-Strings\n",
    "\n",
    "As f-strings vão servir para que você consiga colocar uma variável dentro de um texto, e isso é feito utilizando a letra “f” antes do texto e colocando a sua variável dentro de {} chaves. "
   ]
  },
  {
   "cell_type": "code",
   "execution_count": null,
   "metadata": {},
   "outputs": [],
   "source": [
    "# exemplo f-strings\n",
    "\n",
    "nome1 = 'Noah'\n",
    "nome2 = 'Diunkz'\n",
    "data = '08/03/2023'\n",
    "\n",
    "print(f'meu primeiro nome é {nome1}, meu segundo nome é {nome2} e hoje é dia {data}.')"
   ]
  },
  {
   "cell_type": "code",
   "execution_count": null,
   "metadata": {},
   "outputs": [],
   "source": [
    "# exemplo f-strings\n",
    "\n",
    "nome = 'NoahDiunkz'\n",
    "\n",
    "print(f'Meu nome é {nome[:4]} {nome[4:]}.')"
   ]
  },
  {
   "attachments": {},
   "cell_type": "markdown",
   "metadata": {},
   "source": [
    "upper() e lower()\n",
    "\n",
    "basicamente servem para deixar toda as letras em maiúsculo (upper()) e todas em minúsculo (lower())"
   ]
  },
  {
   "cell_type": "code",
   "execution_count": null,
   "metadata": {},
   "outputs": [],
   "source": [
    "# exemplo upper()\n",
    "\n",
    "minusculo = 'abcd'\n",
    "print(minusculo.upper())"
   ]
  },
  {
   "cell_type": "code",
   "execution_count": null,
   "metadata": {},
   "outputs": [],
   "source": [
    "# exemplo lower()\n",
    "\n",
    "minusculo = 'WXYZ'\n",
    "print(minusculo.lower())\n"
   ]
  },
  {
   "attachments": {},
   "cell_type": "markdown",
   "metadata": {},
   "source": [
    "**round()**\n",
    "\n",
    "serve para o arredondamento de casas decimais\n",
    "\n",
    "possui dois parâmetros\n",
    "\n",
    "`round(a, b)`\n",
    "\n",
    "sendo **a** o valor que quer arredondar e **b** o número de casas decimais"
   ]
  },
  {
   "cell_type": "code",
   "execution_count": null,
   "metadata": {},
   "outputs": [],
   "source": [
    "# exemplo round()\n",
    "\n",
    "numero = 1.123456789\n",
    "print(numero)\n",
    "\n",
    "print(round(numero,2))"
   ]
  }
 ],
 "metadata": {
  "kernelspec": {
   "display_name": "Python 3",
   "language": "python",
   "name": "python3"
  },
  "language_info": {
   "codemirror_mode": {
    "name": "ipython",
    "version": 3
   },
   "file_extension": ".py",
   "mimetype": "text/x-python",
   "name": "python",
   "nbconvert_exporter": "python",
   "pygments_lexer": "ipython3",
   "version": "3.9.16"
  },
  "orig_nbformat": 4,
  "vscode": {
   "interpreter": {
    "hash": "f9f85f796d01129d0dd105a088854619f454435301f6ffec2fea96ecbd9be4ac"
   }
  }
 },
 "nbformat": 4,
 "nbformat_minor": 2
}
