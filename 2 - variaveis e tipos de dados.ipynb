{
 "cells": [
  {
   "attachments": {},
   "cell_type": "markdown",
   "metadata": {},
   "source": [
    "# Revisão Python \n",
    "**Instrutor:** Noah Diunkz\n",
    "\n",
    "**telegram:** @diunkz\n",
    "\n",
    "**e-mail:** jqmj@icomp.ufam.edu.br"
   ]
  },
  {
   "attachments": {},
   "cell_type": "markdown",
   "metadata": {},
   "source": [
    "# Variáveis e Tipos de Dados\n",
    "\n",
    "Os programas de computador essencialmente armazenam e manipulam informação.\n",
    "\n",
    "Toda informação recebe um endereço (número de identificação) para poder ser acessada na memória principal.\n",
    "\n",
    "Seria extremamente difícil ter que memorizar os endereços de memória de todas as informações em nosso programa.\n",
    "\n",
    "Para resolver este problema, criou-se um novo conceito chamado de **variável**.\n",
    "\n",
    "Variáveis são como caixas nomeadas (identificadas) que podem armazenar uma informação por vez.\n",
    "\n",
    "Graças às variáveis a manipulação de informações é bem mais simples.\n",
    "\n",
    "O nome associado a uma variável é chamado de **identificador**.\n",
    "\n",
    "**Toda variável possui:**\n",
    "\n",
    "*Um endereço na memória;\n",
    "Um identificador;\n",
    "Um tipo;*\n",
    "\n",
    "*Obs: Em Python, por causa da tipagem dinâmica, as variáveis são criadas quando associadas a um valor. Isso é feito por meio do operador de atribuição =.*\n",
    "\n",
    "Identificador = valor"
   ]
  },
  {
   "cell_type": "code",
   "execution_count": null,
   "metadata": {},
   "outputs": [],
   "source": [
    "# definindo variáveis\n",
    "\n",
    "nome = 'Noah'\n",
    "idade = 31\n",
    "pi = 3.14159\n",
    "raio = 3.5"
   ]
  },
  {
   "cell_type": "code",
   "execution_count": null,
   "metadata": {},
   "outputs": [],
   "source": [
    "# testando variáveis\n",
    "\n",
    "pi * raio"
   ]
  },
  {
   "cell_type": "code",
   "execution_count": null,
   "metadata": {},
   "outputs": [],
   "source": [
    "# definindo múltiplas variáveis\n",
    "\n",
    "x1, y1 = 12.4, 25"
   ]
  },
  {
   "cell_type": "code",
   "execution_count": null,
   "metadata": {},
   "outputs": [],
   "source": [
    "# testando múltiplas variáveis\n",
    "\n",
    "y1"
   ]
  },
  {
   "attachments": {},
   "cell_type": "markdown",
   "metadata": {},
   "source": [
    "## Variáveis e Identificadores\n",
    "\n",
    "Existem algumas regras para a formação de identificadores:\n",
    "\n",
    "Só serão aceitos [a-z, A-Z], [0-9] ou _ ;\n",
    "\n",
    "Não é permitido iniciar com um dígito;\n",
    "\n",
    "Não se pode reutilizar keywords da linguagem Python;\n",
    "\n",
    "Python é uma linguagem case sensitive;\n",
    "\n",
    "É aconselhável usar caracteres minúsculos para variáveis e maiúsculos para constantes;\n"
   ]
  },
  {
   "cell_type": "code",
   "execution_count": null,
   "metadata": {},
   "outputs": [],
   "source": [
    "# Identificadores na prática\n",
    "\n",
    "# _23 = 2233\n",
    "# 100_condicoes = 100\n",
    "# Nome Completo = 'Meu Nome'\n",
    "# _ = 'underline'\n",
    "# d24h = 1224\n",
    "# p@ssword = 1234\n",
    "# SALARIO_final = 9999\n",
    "# int = 1\n",
    "# print = 'oi'\n",
    "# número_telefone = 994233212\n",
    "# PI = 3.14"
   ]
  },
  {
   "cell_type": "code",
   "execution_count": null,
   "metadata": {},
   "outputs": [],
   "source": [
    "# testando identificadores\n"
   ]
  },
  {
   "attachments": {},
   "cell_type": "markdown",
   "metadata": {},
   "source": [
    "## type()\n",
    "\n",
    "Como dito anteriormente, toda informação referenciada por uma variável possui um tipo de dado associado.\n",
    "\n",
    "Algumas linguagens de programação possuem tipagem estática, isto é, exigem que o desenvolvedor especifique explicitamente o tipo de cada variável.\n",
    "\n",
    "Python, por sua vez, utiliza tipagem dinâmica, ou seja, o próprio interpretador identifica qual o melhor tipo para a variável dependendo da informação associada.\n",
    "\n",
    "Podemos utilizar a função *type()* para inspecionar o tipo de uma variável ou valor literal."
   ]
  },
  {
   "cell_type": "code",
   "execution_count": null,
   "metadata": {},
   "outputs": [],
   "source": [
    "# exemplo type()\n",
    "\n",
    "booleano = True\n",
    "inteiro = 10\n",
    "decimal = 1.5\n",
    "texto = 'algo'\n",
    "\n",
    "# type(booleano)\n",
    "# type(inteiro)\n",
    "# type(decimal)\n",
    "# type(texto)\n"
   ]
  },
  {
   "attachments": {},
   "cell_type": "markdown",
   "metadata": {},
   "source": [
    "## Tipo int\n",
    "\n",
    "Em Python, os valores numéricos inteiros são automaticamente associados ao tipo *int*.\n",
    "\n",
    "Diferentemente de outras linguagens, os inteiros não possuem limitações de tamanho, podendo ser tão grandes quanto a memória disponível no computador.\n",
    "\n",
    "Grandes valores inteiros literais podem ser formatados usando um underscore para melhorar a legibilidade.\n",
    "\n",
    "A função *int()* pode ser utilizada para converter (casting) dados para a sua representação inteira."
   ]
  },
  {
   "cell_type": "code",
   "execution_count": null,
   "metadata": {},
   "outputs": [],
   "source": [
    "# exemplos int\n",
    "\n",
    "int_com_underscore = 100_123_123_123_123_123_123_123_999 #underscore\n",
    "texto = '123'\n",
    "texto_para_int = int(texto)"
   ]
  },
  {
   "attachments": {},
   "cell_type": "markdown",
   "metadata": {},
   "source": [
    "## Tipo Float\n",
    "\n",
    "Em Python, os valores numéricos reais são automaticamente associados ao tipo *float*.\n",
    "\n",
    "Grandes valores inteiros literais podem ser formatados usando um underscore para melhorar a legibilidade.\n",
    "\n",
    "A função *float()* também pode ser utilizada quando for necessário para converter (casting) dados para a sua representação em ponto-flutuante (real).\n"
   ]
  },
  {
   "cell_type": "code",
   "execution_count": null,
   "metadata": {},
   "outputs": [],
   "source": [
    "# exemplos FLOAT\n",
    "\n",
    "pi = 3.1415\n",
    "valor = '3.15'\n",
    "novo = float(valor)"
   ]
  },
  {
   "attachments": {},
   "cell_type": "markdown",
   "metadata": {},
   "source": [
    "## Tipo String\n",
    "\n",
    "Em Python, os valores textuais são automaticamente associados ao tipo *str*.\n",
    "\n",
    "Às strings são sempre envoltas entre aspas, sejam simples ou duplas.\n",
    "\n",
    "A função *str()* também pode ser utilizada quando for necessário para converter (casting) dados para a sua representação em texto (string).\n"
   ]
  },
  {
   "cell_type": "code",
   "execution_count": null,
   "metadata": {},
   "outputs": [],
   "source": [
    "# exemplo string\n",
    "\n",
    "nome = 'Diunkz'\n",
    "numero = 123\n",
    "novo = str(numero)"
   ]
  },
  {
   "attachments": {},
   "cell_type": "markdown",
   "metadata": {},
   "source": [
    "## Tipo Booleano\n",
    "\n",
    "Em Python, o tipo int  possui um “subtipo” chamado de *bool*.\n",
    "\n",
    "O tipo bool está associado aos valores booleanos True e False.\n",
    "\n",
    "Esses dois valores são resultados possíveis de expressões condicionais (relacionais ou lógicas).\n",
    "\n",
    "Por isso, variáveis booleanas são geralmente utilizadas em estruturas condicionais e/ou repetição.\n",
    "\n",
    "A função *bool()* pode ser utilizada para converter (casting) dados para a sua representação booleana."
   ]
  },
  {
   "cell_type": "code",
   "execution_count": null,
   "metadata": {},
   "outputs": [],
   "source": [
    "# exemplo bool\n",
    "\n",
    "a = True\n",
    "b = False\n",
    "c = 0\n",
    "d = 1\n",
    "e = bool(c)\n",
    "f = bool(d)\n",
    "g = bool('')\n",
    "h = bool(123)\n",
    "i = 1.1\n",
    "j = bool(i)"
   ]
  },
  {
   "attachments": {},
   "cell_type": "markdown",
   "metadata": {},
   "source": [
    "## Funções de entrada e saída\n",
    "\n",
    "A função *print() *é o padrão de resposta e informação para o usuário.\n",
    "\n",
    "Permite exibir ao usuário os valores armazenados em variáveis e/ou mensagens.\n",
    "\n",
    "**Seus principais usos são:**\n",
    "\n",
    "Exibir mensagens formatadas;\n",
    "\n",
    "Inspecionar valores de variáveis durante a execução;\n",
    "\n",
    "Auxiliar na solução de “bugs”;\n"
   ]
  },
  {
   "cell_type": "code",
   "execution_count": null,
   "metadata": {},
   "outputs": [],
   "source": [
    "#exemplo print\n",
    "\n",
    "print('oi')\n",
    "\n",
    "hoje = '08/03/2023'\n",
    "print('Data:', hoje)\n",
    "\n",
    "dia = 8\n",
    "mes = 3\n",
    "ano = 2023\n",
    "print('hoje é', dia, mes, ano)"
   ]
  },
  {
   "attachments": {},
   "cell_type": "markdown",
   "metadata": {},
   "source": [
    "## Input()\n",
    "\n",
    "A função *input()* é o método padrão de entrada e informação do usuário.\n",
    "\n",
    "Permite receber dados via teclado, sempre tratados como valores texto (strings). \n",
    "\n",
    "Para converter os dados de entrada podem ser utilizadas as funções de casting:\n",
    "\n",
    "*int()*\n",
    "\n",
    "*float()*\n",
    "\n",
    "*bool()*"
   ]
  },
  {
   "cell_type": "code",
   "execution_count": null,
   "metadata": {},
   "outputs": [],
   "source": [
    "# exemplo input()\n",
    "\n",
    "ano = input('em que ano estamos? ')\n",
    "print(ano)\n",
    "\n",
    "# type(ano)\n",
    "# ano = int(ano)"
   ]
  },
  {
   "cell_type": "code",
   "execution_count": null,
   "metadata": {},
   "outputs": [],
   "source": [
    "# exemplo input()\n",
    "\n",
    "valor_decimal = float(input('insira o valor'))\n",
    "print(valor_decimal)\n",
    "type(valor_decimal)"
   ]
  },
  {
   "attachments": {},
   "cell_type": "markdown",
   "metadata": {},
   "source": [
    "Quando necessário receber mais de um valor na mesma linha de entrada a função split pode ser utilizada para separá-los.\n",
    "\n",
    "A função *split()* é um dos métodos das strings, e tem como função fragmentar a própria string em partes menores, utilizando para isso um separador.\n",
    "\n",
    "Por padrão, o espaço em branco é utilizado como separador, porém o parâmetro sep (primeiro parâmetro da função) pode ser utilizado para especificar outra string como padrão de separação."
   ]
  },
  {
   "cell_type": "code",
   "execution_count": null,
   "metadata": {},
   "outputs": [],
   "source": [
    "# exemplo split()\n",
    "\n",
    "tres_valores = input('Insira 3 valores numéricos')\n",
    "print(tres_valores)\n",
    "\n",
    "# a, b, c = tres_valores.split()\n",
    "# print(a, b, c)\n"
   ]
  },
  {
   "cell_type": "code",
   "execution_count": null,
   "metadata": {},
   "outputs": [],
   "source": [
    "a, b, c = input('Informe três valores numéricos:').split()\n",
    "print(a, b, c)"
   ]
  },
  {
   "cell_type": "code",
   "execution_count": null,
   "metadata": {},
   "outputs": [],
   "source": [
    "entrada = input('Informe a data atual (dd-mm-aaaa):')\n",
    "dia, mes, ano = entrada.split('-')\n",
    "\n",
    "print(dia, mes, ano)"
   ]
  },
  {
   "attachments": {},
   "cell_type": "markdown",
   "metadata": {},
   "source": [
    "## Script\n",
    "\n",
    "Em Python os arquivos com códigos são chamados de *scripts*.\n",
    "\n",
    "Um script nada mais é do que um arquivo texto, com códigos em Python, e que deve ser salvo com a extensão .py.\n",
    "\n",
    "Uma vez construído, um script Python pode ser executado diretamente pelo IDLE (interpretador Python), fornecendo o nome do arquivo.\n",
    "\n",
    "**Comando no Linux:**\n",
    "\n",
    "`$ python3 meuscript.py`"
   ]
  },
  {
   "attachments": {},
   "cell_type": "markdown",
   "metadata": {},
   "source": [
    "## Exercícios"
   ]
  },
  {
   "cell_type": "markdown",
   "metadata": {},
   "source": [
    "1 - Construa um programa que receba o valor do salário de um funcionário, calcule um aumento de 15% e imprima o novo salaŕio."
   ]
  },
  {
   "cell_type": "code",
   "execution_count": null,
   "metadata": {},
   "outputs": [],
   "source": []
  },
  {
   "cell_type": "markdown",
   "metadata": {},
   "source": [
    "2 - Construa um programa que receba o nome de um produto, a quantidade desejada e o valor unitário. Calcule e imprima o valor total a ser pago."
   ]
  },
  {
   "cell_type": "code",
   "execution_count": null,
   "metadata": {},
   "outputs": [],
   "source": []
  },
  {
   "cell_type": "markdown",
   "metadata": {},
   "source": [
    "3 - Construa um programa que leia 02 notas de um estudante e seus respectivos pesos, calcule e imprima sua média final."
   ]
  },
  {
   "cell_type": "code",
   "execution_count": null,
   "metadata": {},
   "outputs": [],
   "source": []
  },
  {
   "cell_type": "markdown",
   "metadata": {},
   "source": [
    "4 - Construa um programa que leia uma distância em metros (m) e imprima a distância convertida para ‘pés’ (ft). "
   ]
  },
  {
   "cell_type": "code",
   "execution_count": null,
   "metadata": {},
   "outputs": [],
   "source": []
  },
  {
   "cell_type": "markdown",
   "metadata": {},
   "source": [
    "5 - Faça um programa que leia uma quantidade de dias, horas, minutos e segundos. Calcule e imprima o total de segundos."
   ]
  },
  {
   "cell_type": "code",
   "execution_count": null,
   "metadata": {},
   "outputs": [],
   "source": []
  },
  {
   "cell_type": "markdown",
   "metadata": {},
   "source": [
    "6 - Faça um programa que calcule o tempo de uma viagem (somente hora e minutos). Seu programa deve receber a velocidade média do veículo e a distância total a ser percorrida."
   ]
  },
  {
   "cell_type": "code",
   "execution_count": null,
   "metadata": {},
   "outputs": [],
   "source": []
  },
  {
   "cell_type": "markdown",
   "metadata": {},
   "source": [
    "7 - Escreva um programa que leia uma temperatura em Celsius, converta e imprima a temperatura para Fahrenheit."
   ]
  },
  {
   "cell_type": "code",
   "execution_count": null,
   "metadata": {},
   "outputs": [],
   "source": []
  },
  {
   "cell_type": "markdown",
   "metadata": {},
   "source": [
    "8 - Escreva um programa para calcular a redução do tempo de vida de um fumante, seu programa deve receber a quantidade de cigarros fumados por dia e quantos anos ele já fumou. Considere que um fumante perde 10 minutos de vida a cada cigarro, exiba a redução total em dias."
   ]
  },
  {
   "cell_type": "code",
   "execution_count": null,
   "metadata": {},
   "outputs": [],
   "source": []
  }
 ],
 "metadata": {
  "kernelspec": {
   "display_name": "Python 3",
   "language": "python",
   "name": "python3"
  },
  "language_info": {
   "name": "python",
   "version": "3.9.16"
  },
  "orig_nbformat": 4,
  "vscode": {
   "interpreter": {
    "hash": "f9f85f796d01129d0dd105a088854619f454435301f6ffec2fea96ecbd9be4ac"
   }
  }
 },
 "nbformat": 4,
 "nbformat_minor": 2
}
