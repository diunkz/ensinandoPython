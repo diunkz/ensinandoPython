{
 "cells": [
  {
   "attachments": {},
   "cell_type": "markdown",
   "metadata": {},
   "source": [
    "# Revisão Python \n",
    "**Instrutor:** Noah Diunkz\n",
    "\n",
    "**telegram:** @diunkz\n",
    "\n",
    "**e-mail:** jqmj@icomp.ufam.edu.br"
   ]
  },
  {
   "attachments": {},
   "cell_type": "markdown",
   "metadata": {},
   "source": [
    "# Sequences - Strings\n",
    "\n",
    "Strings são sequences *imutáveis* e *homogêneas*.\n",
    "\n",
    "Podem ser construídas:\n",
    "\n",
    "Utilizando a função *str()*\n",
    "\n",
    "Informando seus elementos entre \" \" ou ' ' \n",
    "\n",
    "Seus elementos podem ser recuperados pelo mecanismo de indexação (indexing).\n",
    "\n",
    "É possível recuperar somente um pequeno conjunto de elementos da lista por meio do mecanismo de fatiamento (slicing)."
   ]
  },
  {
   "cell_type": "code",
   "execution_count": null,
   "metadata": {},
   "outputs": [],
   "source": [
    "# exemplo strings - criação\n",
    "\n",
    "palavra = 'string'\n",
    "texto = \"string\"\n",
    "\n",
    "print(palavra, texto)"
   ]
  },
  {
   "cell_type": "code",
   "execution_count": null,
   "metadata": {},
   "outputs": [],
   "source": [
    "# exemplo strings - casting\n",
    "\n",
    "numero = 123\n",
    "print(type(numero))\n",
    "\n",
    "numero_para_string = str(numero)\n",
    "print(type(numero_para_string))"
   ]
  },
  {
   "cell_type": "code",
   "execution_count": null,
   "metadata": {},
   "outputs": [],
   "source": [
    "# exemplo strings - indexing\n",
    "\n",
    "palavra = \"minha string\"\n",
    "\n",
    "print(palavra[0])\n",
    "print(palavra[5])\n",
    "print(palavra[6])"
   ]
  },
  {
   "cell_type": "code",
   "execution_count": null,
   "metadata": {},
   "outputs": [],
   "source": [
    "# exemplo strings - slicing\n",
    "\n",
    "palavra = \"banana\"\n",
    "print(palavra[0:3])\n",
    "print(palavra[3:])"
   ]
  }
 ],
 "metadata": {
  "kernelspec": {
   "display_name": "Python 3",
   "language": "python",
   "name": "python3"
  },
  "language_info": {
   "codemirror_mode": {
    "name": "ipython",
    "version": 3
   },
   "file_extension": ".py",
   "mimetype": "text/x-python",
   "name": "python",
   "nbconvert_exporter": "python",
   "pygments_lexer": "ipython3",
   "version": "3.9.16"
  },
  "orig_nbformat": 4,
  "vscode": {
   "interpreter": {
    "hash": "f9f85f796d01129d0dd105a088854619f454435301f6ffec2fea96ecbd9be4ac"
   }
  }
 },
 "nbformat": 4,
 "nbformat_minor": 2
}
