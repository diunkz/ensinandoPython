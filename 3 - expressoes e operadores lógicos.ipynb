{
 "cells": [
  {
   "attachments": {},
   "cell_type": "markdown",
   "metadata": {},
   "source": [
    "# Revisão Python \n",
    "**Instrutor:** Noah Diunkz\n",
    "\n",
    "**telegram:** @diunkz\n",
    "\n",
    "**e-mail:** jqmj@icomp.ufam.edu.br"
   ]
  },
  {
   "attachments": {},
   "cell_type": "markdown",
   "metadata": {},
   "source": [
    "# Expressões condicionais"
   ]
  },
  {
   "attachments": {},
   "cell_type": "markdown",
   "metadata": {},
   "source": [
    "## Operadores Relacionais\n",
    "\n",
    "Além dos operadores aritméticos, a linguagem Python também oferece alguns operadores relacionais.\n",
    "\n",
    "**menor que:** < \n",
    "\n",
    "**maior que:** >\n",
    "\n",
    "**igual:** ==\n",
    "\n",
    "**diferente (não igual):** != \n",
    "\n",
    "**menor ou igual:** <=\n",
    "\n",
    "**maior ou igual:** >="
   ]
  },
  {
   "cell_type": "code",
   "execution_count": 7,
   "metadata": {},
   "outputs": [
    {
     "data": {
      "text/plain": [
       "True"
      ]
     },
     "execution_count": 7,
     "metadata": {},
     "output_type": "execute_result"
    }
   ],
   "source": [
    "# Exercício\n",
    "\n",
    "a = 1\n",
    "b = 5\n",
    "c = 2\n",
    "d = 2\n",
    "\n",
    "# a == b\n",
    "# b > a\n",
    "# a < b\n",
    "# a == d\n",
    "# a >= b\n",
    "# c <= b\n",
    "# d != a\n",
    "# d == b\n",
    "# a < c < b\n",
    "# c > a < b"
   ]
  },
  {
   "attachments": {},
   "cell_type": "markdown",
   "metadata": {},
   "source": [
    "## Operadores Lógicos\n",
    "\n",
    "As operações relacionais/comparativas podem ser combinadas de modo a construir expressões condicionais complexas.\n",
    "\n",
    "Para isso, a linguagem Python implementa os seguintes operadores da lógica booleana:\n",
    "\n",
    "**and** : Equivalente a conjunção [^]\n",
    "\n",
    "**or** : Equivalente a disjunção [v]\n",
    "\n",
    "**not** : Equivalente a negação unária [~]"
   ]
  },
  {
   "attachments": {},
   "cell_type": "markdown",
   "metadata": {},
   "source": [
    "## Tabela verdade da conjunção (and)\n",
    "\n",
    "|   X   |   Y   | X and Y |\n",
    "|:-----:|:-----:|:-------:|\n",
    "| False | False |  False  |\n",
    "| False |  True |  False  |\n",
    "|  True | False |  False  |\n",
    "|  True |  True |   True  |"
   ]
  },
  {
   "attachments": {},
   "cell_type": "markdown",
   "metadata": {},
   "source": [
    "## Tabela verdade da disjunção (or)\n",
    "\n",
    "|   X   |   Y   | X or Y |\n",
    "|:-----:|:-----:|:------:|\n",
    "| False | False |  False |\n",
    "| False |  True |  True  |\n",
    "|  True | False |  True  |\n",
    "|  True |  True |  True  |"
   ]
  },
  {
   "attachments": {},
   "cell_type": "markdown",
   "metadata": {},
   "source": [
    "## Tabela verdade da negação (not)\n",
    "\n",
    "|   X   | Not X |\n",
    "|:-----:|-------|\n",
    "| False | True  |\n",
    "|  True | False |"
   ]
  },
  {
   "cell_type": "code",
   "execution_count": 11,
   "metadata": {},
   "outputs": [
    {
     "data": {
      "text/plain": [
       "False"
      ]
     },
     "execution_count": 11,
     "metadata": {},
     "output_type": "execute_result"
    }
   ],
   "source": [
    "# Exercício\n",
    "\n",
    "a = True\n",
    "b = False\n",
    "c = True\n",
    "\n",
    "# a and a\n",
    "# b and b \n",
    "# not c\n",
    "# not b\n",
    "# not a\n",
    "# a and b\n",
    "# b and c\n",
    "# a or c\n",
    "# b or c\n",
    "# c or a\n"
   ]
  },
  {
   "cell_type": "code",
   "execution_count": 14,
   "metadata": {},
   "outputs": [
    {
     "data": {
      "text/plain": [
       "False"
      ]
     },
     "execution_count": 14,
     "metadata": {},
     "output_type": "execute_result"
    }
   ],
   "source": [
    "# Exercício\n",
    "\n",
    "nota_final = 8.5\n",
    "faltas = 0.30\n",
    "\n",
    "# valor booleano\n",
    "# nota_final >= 5.0\n",
    "# faltas < .25\n",
    "\n",
    "# and\n",
    "nota_final >= 5.0 and faltas < .25\n"
   ]
  },
  {
   "cell_type": "code",
   "execution_count": 16,
   "metadata": {},
   "outputs": [
    {
     "data": {
      "text/plain": [
       "True"
      ]
     },
     "execution_count": 16,
     "metadata": {},
     "output_type": "execute_result"
    }
   ],
   "source": [
    "# Exercício\n",
    "\n",
    "assalariado=False\n",
    "coef=6.8\n",
    "\n",
    "# valor booleano\n",
    "# bool(assalariado)\n",
    "# coef >= 5.0\n",
    "\n",
    "# or\n",
    "# bool(assalariado) or coef >= 5.0"
   ]
  },
  {
   "cell_type": "code",
   "execution_count": null,
   "metadata": {},
   "outputs": [],
   "source": []
  }
 ],
 "metadata": {
  "kernelspec": {
   "display_name": "Python 3",
   "language": "python",
   "name": "python3"
  },
  "language_info": {
   "codemirror_mode": {
    "name": "ipython",
    "version": 3
   },
   "file_extension": ".py",
   "mimetype": "text/x-python",
   "name": "python",
   "nbconvert_exporter": "python",
   "pygments_lexer": "ipython3",
   "version": "3.9.16"
  },
  "orig_nbformat": 4,
  "vscode": {
   "interpreter": {
    "hash": "f9f85f796d01129d0dd105a088854619f454435301f6ffec2fea96ecbd9be4ac"
   }
  }
 },
 "nbformat": 4,
 "nbformat_minor": 2
}
