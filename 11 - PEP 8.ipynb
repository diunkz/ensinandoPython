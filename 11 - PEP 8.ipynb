{
 "cells": [
  {
   "attachments": {},
   "cell_type": "markdown",
   "metadata": {},
   "source": [
    "**Instrutor:** Noah Diunkz\n",
    "\n",
    "**telegram:** @diunkz\n",
    "\n",
    "**e-mail:** jqmj@icomp.ufam.edu.br"
   ]
  },
  {
   "attachments": {},
   "cell_type": "markdown",
   "metadata": {},
   "source": [
    "# PEP 8 - Boas Práticas\n",
    "\n",
    "Quando comecei a estudar Python e conheci a PEP 8, achava que ela não servia pra nada, não faz diferença nenhuma a ordem de importar as bibliotecas em Python, etc. Mas com o passar do tempo, aprendi a entender o real motivo pelo qual existem tais padrões."
   ]
  },
  {
   "attachments": {},
   "cell_type": "markdown",
   "metadata": {},
   "source": [
    "## PEP 8?\n",
    "\n",
    "PEP é uma abreviação de Python Enhancement Proposal, que em português significa proposta de aprimoramento do Python.\n",
    "\n",
    "Trata-se de uma sugestão de boas práticas elaborada por desenvolvedores ao redor do mundo, muitos deles integrantes da Python Software Foundation."
   ]
  },
  {
   "attachments": {},
   "cell_type": "markdown",
   "metadata": {},
   "source": [
    "## Quem escreve ou define as PEP’s?\n",
    "\n",
    "Todas elas são definidas por voluntários que contribuem com a comunidade, e passam por uma revisão completa e complexa, incluindo o próprio desenvolvedor e fundador da linguagem Python, Guido van Rossum, que, inclusive, é autor de algumas delas."
   ]
  },
  {
   "attachments": {},
   "cell_type": "markdown",
   "metadata": {},
   "source": [
    "## Quantas PEP’s existem?\n",
    "\n",
    "Inúmeras!\n",
    "\n",
    "Mas não se preocupe! Ninguém conhece todas elas, e nunca vai conhecer. Vamos focar na PEP mais importante quando se fala de desenvolvimento Python: a PEP 8."
   ]
  },
  {
   "attachments": {},
   "cell_type": "markdown",
   "metadata": {},
   "source": [
    "## O que há de especial na PEP8?\n",
    "\n",
    "A PEP 8 é um guia de referência na estilização e boas práticas de código.\n",
    "\n",
    "Ela foi criada em 05 de julho de 2001 e teve 3 autores principais: \n",
    "\n",
    "**Guido van Rossum**, o criador da linguagem Python; \n",
    "\n",
    "**Barry Warsaw**, desenvolvedor sênior do LinkedIn atualmente;\n",
    "\n",
    "**Nick Coghlan**, ex-membro da comissão de diretoria da Python Software Foundation.\n",
    "\n",
    "Alguns tópicos que são abordados pela PEP 8:\n",
    "\n",
    "*Layout do código*\n",
    "\n",
    "*Consistência*\n",
    "\n",
    "*Padrões de nomeações (variáveis, funções, classes etc.)*\n",
    "\n",
    "*Espaçamentos e tabulações*\n",
    "\n",
    "*Comentários*\n",
    "\n",
    "*Importações*"
   ]
  },
  {
   "attachments": {},
   "cell_type": "markdown",
   "metadata": {},
   "source": [
    "## PEP 8 - Importações\n",
    "\n",
    "A PEP 8 traz as seguintes recomendações sobre importações:\n",
    "\n",
    "**Não realizar imports na mesma linha**\n",
    "\n",
    "Esta primeira recomendação é por facilidade de leitura. Basicamente a recomendação é: cada import em uma linha. Simples assim.\n",
    "\n",
    "```python\n",
    "# errado\n",
    "\n",
    "import sys, os\n",
    "\n",
    "# correto\n",
    "\n",
    "import sys\n",
    "import os\n",
    "```"
   ]
  },
  {
   "attachments": {},
   "cell_type": "markdown",
   "metadata": {},
   "source": [
    "Beleza, mas o que isso muda? **legibilidade**!\n",
    "\n",
    "Já imaginou se tivéssemos vários imports em uma mesma linha? \n",
    "\n",
    "Nosso código ficaria assim:\n",
    "\n",
    "```python\n",
    "import os, pandas as pd, numpy as np, sklearn, tensorflow, minha_lib, keras\n",
    "```"
   ]
  },
  {
   "attachments": {},
   "cell_type": "markdown",
   "metadata": {},
   "source": [
    "## PEP 8 - Importância da ordenação dos imports"
   ]
  },
  {
   "attachments": {},
   "cell_type": "markdown",
   "metadata": {},
   "source": [
    "Há um motivo bastante convincente para ordenação dos imports.\n",
    "\n",
    "Se você ainda não vê importância na ordenação dos imports, responda a seguinte pergunta:\n",
    "\n",
    "**No código abaixo, você consegue identificar quais bibliotecas são padrão do Python, são de terceiros ou são de minha própria autoria/desenvolvimento?**\n",
    "\n",
    "```python\n",
    "# importações sem padrão\n",
    "\n",
    "import os \n",
    "import numpy as np\n",
    "import re\n",
    "import pandas as pd\n",
    "import utils\n",
    "import sys\n",
    "```"
   ]
  },
  {
   "attachments": {},
   "cell_type": "markdown",
   "metadata": {},
   "source": [
    "A ideia por trás da ordenação de imports é separar as bibliotecas na seguinte ordem:\n",
    "\n",
    "1 - Bibliotecas padrão da linguagem Python (sem necessidade de instalação)\n",
    "\n",
    "2 - Bibliotecas de terceiros (instalável a partir de algum repositório)\n",
    "\n",
    "3 - Bibliotecas/módulos próprios (criados pelo próprio desenvolvedor)\n",
    "\n",
    "Assim, o nosso código ficaria desta forma:\n",
    "\n",
    "```python\n",
    "# bibliotecas padrão\n",
    "import os\n",
    "import sys\n",
    "\n",
    "# bibliotecas de terceiros (necessita instalação)\n",
    "import numpy as np\n",
    "import pandas as pd\n",
    "\n",
    "# biblitecas próprias\n",
    "import utils\n",
    "```"
   ]
  },
  {
   "attachments": {},
   "cell_type": "markdown",
   "metadata": {},
   "source": [
    "Além da organização dos imports na ordem descrita acima, eles são organizados dentro de cada categoria também por ordem alfabética, e as categorias são separadas por um espaço em branco.\n",
    "\n",
    "Porém, creio que todos nós vamos concordar no ponto a seguir: organizar imports tem sua importância, mas ao mesmo tempo é chato ter que fazer toda hora, concordam? Imaginem se tivéssemos um projeto com vários arquivos e imports!\n",
    "\n",
    "Felizmente, não há necessidade de revisar tudo isso manualmente! Existe uma biblioteca (de várias) que facilita nossa vida, chamada isort.\n",
    "\n",
    "Podemos unir a facilidade da biblioteca isort com configurações específicas de cada IDE para realizar a organização destes imports de forma automática."
   ]
  },
  {
   "attachments": {},
   "cell_type": "markdown",
   "metadata": {},
   "source": [
    "Como configurar a IDE do VS Code para organizar os imports automaticamente quando você salva o arquivo:\n",
    "\n",
    "1 - Abra um terminal e instale o isort: \n",
    "\n",
    "```shell\n",
    "pip install isort\n",
    "```\n",
    "\n",
    "2 - Instale a extensão *code-python-isort* no VS Code\n",
    "\n",
    "3 - Configure o VS Code para rodar o isort ao salvar o arquivo, colocando o snippet abaixo nas configurações da IDE\n",
    "\n",
    "```json\n",
    "\"[python]\": {\n",
    "  \"editor.codeActionsOnSave\": {\n",
    "    \"source.organizeImports\": true\n",
    "  }\n",
    "}\n",
    "```\n"
   ]
  },
  {
   "attachments": {},
   "cell_type": "markdown",
   "metadata": {},
   "source": [
    "## Não uso de wildcards (*)\n",
    "\n",
    "Uma regra de boa prática e em que há motivos bem específicos para aderir: performance e clareza do código.\n",
    "\n",
    "O *wildcard*, representado pelo carácter *, significa “importe tudo de uma biblioteca”. \n",
    "\n",
    "O famoso ```from biblioteca import *```. \n"
   ]
  },
  {
   "attachments": {},
   "cell_type": "markdown",
   "metadata": {},
   "source": [
    "\n",
    "E qual é o problema disso? Por que é uma má prática, de acordo com a PEP 8?\n",
    "\n",
    "**Performance:** você raramente usa tudo de uma biblioteca. Em outras palavras, você acaba importando funções e classes que nunca são utilizadas, sendo que, ao importar com wildcard, todas elas ficam disponíveis na memória do computador, mesmo que não usadas.\n",
    "\n",
    "**Clareza de código:** quando você faz uso de wildcards, você não sabe de onde veio cada função, dificultando a manutenção do código e prejudicando a clareza e legibilidade dele. Porém, ainda sim, o código funciona!"
   ]
  },
  {
   "attachments": {},
   "cell_type": "markdown",
   "metadata": {},
   "source": [
    "Para ilustrar sobre clareza, responda à seguinte pergunta: você conseguiria identificar, no código abaixo, de qual pacote é cada função importada?\n",
    "\n",
    "```python\n",
    "from os import *\n",
    "from sys import *\n",
    "\n",
    "mkdir('diretorio')\n",
    "getwindowsversions()\n",
    "```"
   ]
  },
  {
   "attachments": {},
   "cell_type": "markdown",
   "metadata": {},
   "source": [
    "Da forma como foi escrito, o código pode confundir até desenvolvedores mais experientes, obrigando a consultar a documentação para confirmar tal informação. Isso que no exemplo temos só 2 bibliotecas e uma função. E quando o código começar a crescer, com bibliotecas padrões, de terceiros e próprias? \n",
    "\n",
    "Já imaginou o tamanho da confusão? A forma simples de corrigir isso:\n",
    "\n",
    "**Não usar wildcards!**\n"
   ]
  },
  {
   "attachments": {},
   "cell_type": "markdown",
   "metadata": {},
   "source": [
    "E para ilustrar a questão de performance, podemos melhorar mais ainda os nossos imports, importando somente o que usamos no nosso código:\n",
    "\n",
    "```python\n",
    "\n",
    "from os import mkdir\n",
    "from sys import getwindowsversion\n",
    "\n",
    "mkdir('diretorio')\n",
    "getwindowsversion()\n",
    "```"
   ]
  },
  {
   "attachments": {},
   "cell_type": "markdown",
   "metadata": {},
   "source": [
    "## Conclusão\n",
    "\n",
    "Nesta breve introdução, falando sobre o que é PEP, quantas existem, quem elabora, e demos ênfase na PEP 8, muito utilizada como um guia de estilo para Python. \n",
    "\n",
    "Dentro da PEP 8, com foco nos imports, falamos sobre os 3 principais pontos mais relevantes: não importar tudo na mesma linha, ordenar seus imports e não utilizar wildcards! \n",
    "\n",
    "PEP 8 vai muito mais além do que imports e é mantida por uma comunidade global de desenvolvedores. Então, por que não aderir?"
   ]
  },
  {
   "attachments": {},
   "cell_type": "markdown",
   "metadata": {},
   "source": [
    "**Referências**\n",
    "\n",
    "PEP’s: https://www.python.org/dev/peps/\n",
    "\n",
    "PEP 8 oficial: https://www.python.org/dev/peps/pep-0008/\n",
    "\n",
    "Isort: https://pycqa.github.io/isort/\n",
    "\n",
    "PEP 8 e imports em Python: https://medium.com/gbtech/pep-8-e-imports-em-python-78a6fbf53475"
   ]
  }
 ],
 "metadata": {
  "kernelspec": {
   "display_name": "Python 3",
   "language": "python",
   "name": "python3"
  },
  "language_info": {
   "codemirror_mode": {
    "name": "ipython",
    "version": 3
   },
   "file_extension": ".py",
   "mimetype": "text/x-python",
   "name": "python",
   "nbconvert_exporter": "python",
   "pygments_lexer": "ipython3",
   "version": "3.8.10"
  },
  "orig_nbformat": 4,
  "vscode": {
   "interpreter": {
    "hash": "916dbcbb3f70747c44a77c7bcd40155683ae19c65e1c03b4aa3499c5328201f1"
   }
  }
 },
 "nbformat": 4,
 "nbformat_minor": 2
}
