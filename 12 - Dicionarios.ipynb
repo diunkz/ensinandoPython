{
 "cells": [
  {
   "attachments": {},
   "cell_type": "markdown",
   "metadata": {},
   "source": [
    "**Instrutor:** Noah Diunkz\n",
    "\n",
    "**telegram:** @diunkz\n",
    "\n",
    "**e-mail:** jqmj@icomp.ufam.edu.br"
   ]
  },
  {
   "attachments": {},
   "cell_type": "markdown",
   "metadata": {},
   "source": [
    "# Dicionários\n",
    "\n",
    "Um dicionário é uma coleção que consiste em chaves e valores correspondentes, quase como uma associação entre dois conjuntos. É também uma coleção ordenada, mutável, indexada e que não possibilita a inserção de elementos repetidos.\n",
    "\n",
    "Temos formas simples de iniciar um dicionário.\n",
    "\n",
    "Uma delas é nomeando os elementos de forma direta, como com uma variável:\n",
    "\n",
    "```python\n",
    "dicionario = {'a': 1, 'b': 2}\n",
    "```\n",
    "\n",
    "Nesse caso, a chave \"a\" contém o valor 1, ao passo que a chave \"b\" contém o valor 2. \n",
    "\n",
    "A outra forma de resolver isso é usando o método **dict()**:\n",
    "\n",
    "```python\n",
    "dicio = dict(primeiro=1, segundo=2, terceiro=3)\n",
    "```\n",
    "\n",
    "\n",
    "\n",
    "\n",
    "\n",
    "\n"
   ]
  },
  {
   "cell_type": "code",
   "execution_count": null,
   "metadata": {},
   "outputs": [],
   "source": [
    "dicionario_um = {'chave': 'valor'}\n",
    "\n",
    "dicionario_dois = dict(chave='valor')\n",
    "\n",
    "print(dicionario_um)\n",
    "print(dicionario_dois)"
   ]
  },
  {
   "cell_type": "code",
   "execution_count": null,
   "metadata": {},
   "outputs": [],
   "source": [
    "type(dicionario_um)"
   ]
  },
  {
   "attachments": {},
   "cell_type": "markdown",
   "metadata": {},
   "source": [
    "## Acessando itens\n",
    "\n",
    "Você pode acessar os itens de um dicionário referindo-se ao seu nome de chave, entre colchetes:"
   ]
  },
  {
   "cell_type": "code",
   "execution_count": null,
   "metadata": {},
   "outputs": [],
   "source": [
    "# criação do dicionário\n",
    "carro = {\n",
    "  \"marca\": \"Ford\",\n",
    "  \"modelo\": \"Mustang\",\n",
    "  \"ano\": 1964\n",
    "}\n",
    "\n",
    "carro"
   ]
  },
  {
   "cell_type": "code",
   "execution_count": null,
   "metadata": {},
   "outputs": [],
   "source": [
    "carro[\"modelo\"]"
   ]
  },
  {
   "attachments": {},
   "cell_type": "markdown",
   "metadata": {},
   "source": [
    "também é possível utilizar o método *get()*"
   ]
  },
  {
   "cell_type": "code",
   "execution_count": null,
   "metadata": {},
   "outputs": [],
   "source": [
    "carro.get('modelo')"
   ]
  },
  {
   "attachments": {},
   "cell_type": "markdown",
   "metadata": {},
   "source": [
    "## Alterando valores\n",
    "\n",
    "Você pode alterar o valor de um item específico referindo-se ao seu nome de chave:"
   ]
  },
  {
   "cell_type": "code",
   "execution_count": 7,
   "metadata": {},
   "outputs": [],
   "source": [
    "carro['ano'] = 2023"
   ]
  },
  {
   "cell_type": "code",
   "execution_count": null,
   "metadata": {},
   "outputs": [],
   "source": [
    "carro"
   ]
  },
  {
   "attachments": {},
   "cell_type": "markdown",
   "metadata": {},
   "source": [
    "O método *update()* atualizará o dicionário com os itens do argumento fornecido.\n",
    "\n",
    "O argumento deve ser um dicionário ou um objeto iterável com pares chave:valor."
   ]
  },
  {
   "cell_type": "code",
   "execution_count": 9,
   "metadata": {},
   "outputs": [],
   "source": [
    "carro.update({'ano': 2020})"
   ]
  },
  {
   "cell_type": "code",
   "execution_count": null,
   "metadata": {},
   "outputs": [],
   "source": [
    "carro"
   ]
  },
  {
   "attachments": {},
   "cell_type": "markdown",
   "metadata": {},
   "source": [
    "## Adicionando Itens\n",
    "\n",
    "Adicionar um item ao dicionário é feito usando uma nova chave de índice e atribuindo um valor a ela:"
   ]
  },
  {
   "cell_type": "code",
   "execution_count": 11,
   "metadata": {},
   "outputs": [],
   "source": [
    "carro['estado'] = 'novo'"
   ]
  },
  {
   "cell_type": "code",
   "execution_count": null,
   "metadata": {},
   "outputs": [],
   "source": [
    "carro"
   ]
  },
  {
   "attachments": {},
   "cell_type": "markdown",
   "metadata": {},
   "source": [
    "O método *update()* também pode ser utilizado:"
   ]
  },
  {
   "cell_type": "code",
   "execution_count": 13,
   "metadata": {},
   "outputs": [],
   "source": [
    "carro.update({'dono': 'diunkz'})"
   ]
  },
  {
   "cell_type": "code",
   "execution_count": null,
   "metadata": {},
   "outputs": [],
   "source": [
    "carro"
   ]
  },
  {
   "attachments": {},
   "cell_type": "markdown",
   "metadata": {},
   "source": [
    "## Removendo Itens\n",
    "\n",
    "Existem vários métodos para remover itens de um dicionário:"
   ]
  },
  {
   "attachments": {},
   "cell_type": "markdown",
   "metadata": {},
   "source": [
    "O método *pop()* remove o item com o nome de chave especificado:"
   ]
  },
  {
   "cell_type": "code",
   "execution_count": null,
   "metadata": {},
   "outputs": [],
   "source": [
    "carro.pop(\"modelo\")"
   ]
  },
  {
   "cell_type": "code",
   "execution_count": null,
   "metadata": {},
   "outputs": [],
   "source": [
    "carro"
   ]
  },
  {
   "attachments": {},
   "cell_type": "markdown",
   "metadata": {},
   "source": [
    "O método *popitem()* remove o último item inserido.\n",
    "\n",
    "Obs: em versões anteriores a 3.7, um item aleatório é removido"
   ]
  },
  {
   "cell_type": "code",
   "execution_count": 17,
   "metadata": {},
   "outputs": [],
   "source": [
    "carro['ultimo'] = 'algo aqui'"
   ]
  },
  {
   "cell_type": "code",
   "execution_count": null,
   "metadata": {},
   "outputs": [],
   "source": [
    "carro"
   ]
  },
  {
   "cell_type": "code",
   "execution_count": null,
   "metadata": {},
   "outputs": [],
   "source": [
    "carro.popitem()"
   ]
  },
  {
   "cell_type": "code",
   "execution_count": null,
   "metadata": {},
   "outputs": [],
   "source": [
    "carro"
   ]
  },
  {
   "attachments": {},
   "cell_type": "markdown",
   "metadata": {},
   "source": [
    "A keyword *del* remove o item com o nome de chave especificado:"
   ]
  },
  {
   "cell_type": "code",
   "execution_count": 21,
   "metadata": {},
   "outputs": [],
   "source": [
    "carro['ultimo'] = 'algo aqui'"
   ]
  },
  {
   "cell_type": "code",
   "execution_count": null,
   "metadata": {},
   "outputs": [],
   "source": [
    "carro"
   ]
  },
  {
   "cell_type": "code",
   "execution_count": 23,
   "metadata": {},
   "outputs": [],
   "source": [
    "del carro['ultimo']"
   ]
  },
  {
   "cell_type": "code",
   "execution_count": null,
   "metadata": {},
   "outputs": [],
   "source": [
    "carro"
   ]
  },
  {
   "attachments": {},
   "cell_type": "markdown",
   "metadata": {},
   "source": [
    "A keyword *del* também pode deletar o dicionário completamente:"
   ]
  },
  {
   "cell_type": "code",
   "execution_count": 25,
   "metadata": {},
   "outputs": [],
   "source": [
    "del carro"
   ]
  },
  {
   "cell_type": "code",
   "execution_count": null,
   "metadata": {},
   "outputs": [],
   "source": [
    "carro"
   ]
  },
  {
   "attachments": {},
   "cell_type": "markdown",
   "metadata": {},
   "source": [
    "O método *clear()* esvazia o dicionário:"
   ]
  },
  {
   "cell_type": "code",
   "execution_count": 27,
   "metadata": {},
   "outputs": [],
   "source": [
    "# criação do dicionário \n",
    "\n",
    "carro = {\n",
    "  \"marca\": \"Ford\",\n",
    "  \"modelo\": \"Mustang\",\n",
    "  \"ano\": 1964\n",
    "}"
   ]
  },
  {
   "cell_type": "code",
   "execution_count": 28,
   "metadata": {},
   "outputs": [],
   "source": [
    "carro.clear()"
   ]
  },
  {
   "cell_type": "code",
   "execution_count": 29,
   "metadata": {},
   "outputs": [
    {
     "data": {
      "text/plain": [
       "{}"
      ]
     },
     "execution_count": 29,
     "metadata": {},
     "output_type": "execute_result"
    }
   ],
   "source": [
    "carro"
   ]
  },
  {
   "attachments": {},
   "cell_type": "markdown",
   "metadata": {},
   "source": [
    "## Exercícios"
   ]
  },
  {
   "attachments": {},
   "cell_type": "markdown",
   "metadata": {},
   "source": [
    "1 - Crie um programa que cadastre informações de várias pessoas (nome, idade e cpf) na mesma linha, até que o 0 seja dado como entrada (parada) e coloque em um dicionário. Depois remova todas as pessoas menores de 18 anos do dicionário e coloque em outro dicionário. No final, mostre os dois dicionários.\n",
    "\n",
    "Informações:\n",
    "nome -> str\n",
    "idade -> int\n",
    "cpf -> str\n",
    "\n",
    "formato dicionário -> cpf : (nome, idade)"
   ]
  },
  {
   "cell_type": "code",
   "execution_count": null,
   "metadata": {},
   "outputs": [],
   "source": []
  },
  {
   "attachments": {},
   "cell_type": "markdown",
   "metadata": {},
   "source": [
    "2 - Considere um sistema onde dados são armazenados em dicionários. Nesse sistema existe um dicionario principal e o dicionário de backup. Cada vez que o dicionário principal atinge tamanho 5, ele imprime os\n",
    "dados na tela e apaga o seu conteúdo. Crie um programa que insira dados em um dicionário, realizando o backup a cada dado e excluindo os dados do dicionário principal quando ele atingir tamanho 5.\n",
    "\n",
    "Informações:\n",
    "a entrada é composta com os 3 valores na mesma linha, separados por uma barra (/) -> nome/peso/altura\n",
    "\n",
    "nome -> str\n",
    "peso -> float\n",
    "altura -> float\n",
    "\n",
    "formato dicionário -> nome : (peso, altura)"
   ]
  },
  {
   "cell_type": "code",
   "execution_count": null,
   "metadata": {},
   "outputs": [],
   "source": []
  }
 ],
 "metadata": {
  "kernelspec": {
   "display_name": "Python 3",
   "language": "python",
   "name": "python3"
  },
  "language_info": {
   "codemirror_mode": {
    "name": "ipython",
    "version": 3
   },
   "file_extension": ".py",
   "mimetype": "text/x-python",
   "name": "python",
   "nbconvert_exporter": "python",
   "pygments_lexer": "ipython3",
   "version": "3.8.10"
  },
  "orig_nbformat": 4,
  "vscode": {
   "interpreter": {
    "hash": "916dbcbb3f70747c44a77c7bcd40155683ae19c65e1c03b4aa3499c5328201f1"
   }
  }
 },
 "nbformat": 4,
 "nbformat_minor": 2
}
