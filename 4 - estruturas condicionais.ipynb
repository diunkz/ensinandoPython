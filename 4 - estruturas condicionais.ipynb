{
 "cells": [
  {
   "attachments": {},
   "cell_type": "markdown",
   "metadata": {},
   "source": [
    "# Revisão Python \n",
    "**Instrutor:** Noah Diunkz\n",
    "\n",
    "**telegram:** @diunkz\n",
    "\n",
    "**e-mail:** jqmj@icomp.ufam.edu.br"
   ]
  },
  {
   "attachments": {},
   "cell_type": "markdown",
   "metadata": {},
   "source": [
    "Estruturas Condicionais"
   ]
  },
  {
   "attachments": {},
   "cell_type": "markdown",
   "metadata": {},
   "source": [
    "# If\n",
    "\n",
    "Até este ponto nossos programas seguem um fluxo linear de instruções, não sendo possível desvios ou tomadas de decisão.\n",
    "\n",
    "Imagine agora, uma aplicação estudantil, na qual desejamos imprimir uma mensagem de “Aprovado”, para um aluno, caso seu coeficiente tenha sido maior ou igual a 6.0.\n",
    "\n",
    "Com as ferramentas que temos somente é possível construir uma expressão condicional que retorne *True* ou *False*, indicando se o estudante foi aprovado ou não.\n",
    "\n",
    "Logo, precisamos de uma estrutura capaz de avaliar o resultado dessa expressão condicional e então exibir a mensagem caso o resultado da expressão seja True. \n"
   ]
  },
  {
   "cell_type": "code",
   "execution_count": 3,
   "metadata": {},
   "outputs": [
    {
     "name": "stdout",
     "output_type": "stream",
     "text": [
      "Parabéns! Você foi aprovado.\n"
     ]
    }
   ],
   "source": [
    "# exemplo if\n",
    "\n",
    "nota = input('Informe sua nota final:')\n",
    "\n",
    "# casting para float\n",
    "nota = float(nota)\n",
    "\n",
    "# testa se o valor de 'nota' é maior ou igual a '6.0'\n",
    "if nota >= 6.0:\n",
    "    print('Parabéns! Você foi aprovado.')"
   ]
  },
  {
   "attachments": {},
   "cell_type": "markdown",
   "metadata": {},
   "source": [
    "## else e elif\n",
    "\n",
    "Junto com a construção if podemos combinar a construção else, de modo que teremos um bloco de instruções que será executado caso a expressão condicional seja avaliada como *False*.\n",
    "\n",
    "Adicionalmente, quando existem várias condições a serem testadas, podemos também encadear construções *elif* após uma construção *if*, para testar outras expressões caso as anteriores sejam avaliadas como False.\n",
    "\n",
    "Por fim, quando a estrutura if-else executar apenas uma única instrução simples, pode-se simplificar a construção numa única linha, isto é chamado de *inline if* . \n"
   ]
  },
  {
   "cell_type": "code",
   "execution_count": 7,
   "metadata": {},
   "outputs": [
    {
     "name": "stdout",
     "output_type": "stream",
     "text": [
      "Adulto\n"
     ]
    }
   ],
   "source": [
    "# exemplo if, elif, else\n",
    "\n",
    "idade = input('Informe sua idade:')\n",
    "\n",
    "# casting para float\n",
    "idade = int(idade)\n",
    "\n",
    "if idade < 3:\n",
    "    print('Bebê')\n",
    "elif idade < 13:\n",
    "    print('Criança')\n",
    "elif idade < 18:\n",
    "    print('Adolescente')\n",
    "else:\n",
    "    print('Adulto')"
   ]
  },
  {
   "cell_type": "code",
   "execution_count": 9,
   "metadata": {},
   "outputs": [
    {
     "name": "stdout",
     "output_type": "stream",
     "text": [
      "Resultado: Reprovado\n"
     ]
    }
   ],
   "source": [
    "# exemplo inline if\n",
    "\n",
    "nota = input('Informe sua nota final:')\n",
    "\n",
    "# casting para float\n",
    "nota = float(nota)\n",
    "\n",
    "# inline if\n",
    "# a variável 'resultado' recebe o texto de acordo com a nota\n",
    "resultado = 'Aprovado' if nota >= 6.0 else 'Reprovado'\n",
    "\n",
    "print('Resultado:', resultado)"
   ]
  },
  {
   "attachments": {},
   "cell_type": "markdown",
   "metadata": {},
   "source": [
    "## Exercícios - Estruturas Condicionais"
   ]
  },
  {
   "attachments": {},
   "cell_type": "markdown",
   "metadata": {},
   "source": [
    "1 - Construa um programa que leia 03 notas de um aluno e diga se ele foi aprovado ou não. Para ser aprovado ele precisa ter todas as notas superiores a 6.0."
   ]
  },
  {
   "cell_type": "code",
   "execution_count": 11,
   "metadata": {},
   "outputs": [
    {
     "name": "stdout",
     "output_type": "stream",
     "text": [
      "reprovado\n"
     ]
    }
   ],
   "source": [
    "nota1 = float(input())\n",
    "nota2 = float(input())\n",
    "nota3 = float(input())\n",
    "\n",
    "if nota1 > 6.0 and nota2 > 6.0 and nota3 > 6.0:\n",
    "    print('aprovado')\n",
    "else:\n",
    "    print('reprovado')"
   ]
  },
  {
   "attachments": {},
   "cell_type": "markdown",
   "metadata": {},
   "source": [
    "2 - Faça um programa que receba os coeficientes de uma equação de segundo grau e diga se existem ou não raízes reais."
   ]
  },
  {
   "cell_type": "code",
   "execution_count": null,
   "metadata": {},
   "outputs": [],
   "source": []
  },
  {
   "attachments": {},
   "cell_type": "markdown",
   "metadata": {},
   "source": [
    "3 - Escreva um programa que leia a velocidade de um carro e diga se ele foi multado ou não. Considere 80 km/h como o limite permitido na via."
   ]
  },
  {
   "cell_type": "code",
   "execution_count": null,
   "metadata": {},
   "outputs": [],
   "source": []
  },
  {
   "attachments": {},
   "cell_type": "markdown",
   "metadata": {},
   "source": [
    "4 - Modifique o programa anterior para calcular e exibir o valor da multa. Cobre R$ 5,00 por km/h acima de 80 km/h e um adicional de R$ 10,00 por km/h acima dos 100 km/h "
   ]
  },
  {
   "cell_type": "code",
   "execution_count": null,
   "metadata": {},
   "outputs": [],
   "source": []
  },
  {
   "attachments": {},
   "cell_type": "markdown",
   "metadata": {},
   "source": [
    "5 - Faça um programa que leia 03 números inteiros e imprima o maior e o menor dos três."
   ]
  },
  {
   "cell_type": "code",
   "execution_count": null,
   "metadata": {},
   "outputs": [],
   "source": []
  },
  {
   "attachments": {},
   "cell_type": "markdown",
   "metadata": {},
   "source": [
    "6 - Escreva um programa que pergunte a distância que um passageiro deseja percorrer em km. Calcule o preço da passagem, cobrando R$ 0,50 por km para viagens de até 200 km, e R$ 0,45 para viagens mais longas."
   ]
  },
  {
   "cell_type": "code",
   "execution_count": null,
   "metadata": {},
   "outputs": [],
   "source": []
  }
 ],
 "metadata": {
  "kernelspec": {
   "display_name": "Python 3",
   "language": "python",
   "name": "python3"
  },
  "language_info": {
   "codemirror_mode": {
    "name": "ipython",
    "version": 3
   },
   "file_extension": ".py",
   "mimetype": "text/x-python",
   "name": "python",
   "nbconvert_exporter": "python",
   "pygments_lexer": "ipython3",
   "version": "3.9.16"
  },
  "orig_nbformat": 4,
  "vscode": {
   "interpreter": {
    "hash": "f9f85f796d01129d0dd105a088854619f454435301f6ffec2fea96ecbd9be4ac"
   }
  }
 },
 "nbformat": 4,
 "nbformat_minor": 2
}
