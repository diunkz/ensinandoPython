{
 "cells": [
  {
   "attachments": {},
   "cell_type": "markdown",
   "metadata": {},
   "source": [
    "**Instrutor:** Noah Diunkz\n",
    "\n",
    "**telegram:** @diunkz\n",
    "\n",
    "**e-mail:** jqmj@icomp.ufam.edu.br"
   ]
  },
  {
   "attachments": {},
   "cell_type": "markdown",
   "metadata": {},
   "source": [
    "# Tratamento de Erros\n",
    "\n",
    "Quando ocorre um erro, ou exceção, como chamamos, o Python normalmente para e gera uma mensagem de erro.\n",
    "\n",
    "Essas exceções podem ser tratadas usando a instrução **try**.\n",
    "\n"
   ]
  },
  {
   "attachments": {},
   "cell_type": "markdown",
   "metadata": {},
   "source": [
    "## Try / Except\n",
    "\n",
    "O bloco **try** permite testar erros em um bloco de código.\n",
    "\n",
    "O bloco **except** permite lidar com o erro.\n",
    "\n",
    "O bloco **else** permite que você execute o código quando não houver erro.\n",
    "\n",
    "O bloco **finally** permite que você execute o código, independentemente do resultado dos blocos try e except."
   ]
  },
  {
   "cell_type": "code",
   "execution_count": null,
   "metadata": {},
   "outputs": [],
   "source": [
    "print(x)"
   ]
  },
  {
   "cell_type": "code",
   "execution_count": null,
   "metadata": {},
   "outputs": [],
   "source": [
    "try:\n",
    "    print(x)\n",
    "except:\n",
    "    print(\"Uma exception ocorreu!\")"
   ]
  },
  {
   "cell_type": "code",
   "execution_count": null,
   "metadata": {},
   "outputs": [],
   "source": [
    "try:\n",
    "    print(x)\n",
    "except NameError:\n",
    "    print(\"A variável não foi definida\")\n",
    "except:\n",
    "    print(\"Aconteceu outra coisa\")"
   ]
  },
  {
   "attachments": {},
   "cell_type": "markdown",
   "metadata": {},
   "source": [
    "## Else\n",
    "\n",
    "Você pode usar a keyword **else** para definir um bloco de código a ser executado se nenhum erro for gerado.\n"
   ]
  },
  {
   "cell_type": "code",
   "execution_count": null,
   "metadata": {},
   "outputs": [],
   "source": [
    "try:\n",
    "  print(\"Olá\")\n",
    "except:\n",
    "  print(\"Aconteceu algo errado!\")\n",
    "else:\n",
    "  print(\"Nada errado aconteceu!\")"
   ]
  },
  {
   "attachments": {},
   "cell_type": "markdown",
   "metadata": {},
   "source": [
    "## Finally\n",
    "\n",
    "O bloco **finally**, se especificado, será executado independentemente se o bloco try gerar um erro ou não."
   ]
  },
  {
   "cell_type": "code",
   "execution_count": null,
   "metadata": {},
   "outputs": [],
   "source": [
    "try:\n",
    "  print(x)\n",
    "except:\n",
    "  print(\"Something went wrong\")\n",
    "finally:\n",
    "  print(\"The 'try except' is finished\")"
   ]
  },
  {
   "attachments": {},
   "cell_type": "markdown",
   "metadata": {},
   "source": [
    "Isso pode ser útil para fechar arquivos e limpar recursos:\n",
    "\n",
    "```python\n",
    "try:\n",
    "  f = open(\"arquivo.txt\")\n",
    "  try:\n",
    "    f.write(\"escrevendo algo\")\n",
    "  except:\n",
    "    print(\"algo errado aconteceu ao tentar escrever\")\n",
    "  finally:\n",
    "    f.close()\n",
    "except:\n",
    "  print(\"algo deu errado ao tentar abrir o arquivo\")\n",
    "```\n",
    "\n",
    "O programa continua, sem deixar o arquivo aberto.\n"
   ]
  },
  {
   "attachments": {},
   "cell_type": "markdown",
   "metadata": {},
   "source": [
    "## Raise\n",
    "\n",
    "Como desenvolvedor Python, você pode optar por lançar uma exceção se ocorrer uma condição.\n",
    "\n",
    "Para lançar (ou gerar) uma exceção, use a keyword **raise**."
   ]
  },
  {
   "attachments": {},
   "cell_type": "markdown",
   "metadata": {},
   "source": [
    "Exemplo:\n",
    "\n",
    "\"Suba\" um erro e pare o programa caso x seje menor do que 0."
   ]
  },
  {
   "cell_type": "code",
   "execution_count": null,
   "metadata": {},
   "outputs": [],
   "source": [
    "x = -1\n",
    "\n",
    "if x < 0:\n",
    "    raise Exception(\"Desculpa, não trabalhamos com números menores que 0\")"
   ]
  },
  {
   "cell_type": "code",
   "execution_count": null,
   "metadata": {},
   "outputs": [],
   "source": [
    "x = 1\n",
    "\n",
    "if x < 0:\n",
    "    raise Exception(\"Desculpa, não trabalhamos com números menores que 0\")\n",
    "print('cheguei aqui')\n"
   ]
  },
  {
   "attachments": {},
   "cell_type": "markdown",
   "metadata": {},
   "source": [
    "Como vimos, a palavra-chave **raise** é usada para gerar uma exceção.\n",
    "\n",
    "Mas você também pode definir que tipo de erro gerar e o texto a ser impresso para o usuário."
   ]
  },
  {
   "cell_type": "code",
   "execution_count": null,
   "metadata": {},
   "outputs": [],
   "source": [
    "x = 'a'\n",
    "\n",
    "if not type(x) is int:\n",
    "  raise TypeError(\"Apenas inteiros são permitidos\")"
   ]
  },
  {
   "cell_type": "markdown",
   "metadata": {},
   "source": []
  }
 ],
 "metadata": {
  "kernelspec": {
   "display_name": "Python 3",
   "language": "python",
   "name": "python3"
  },
  "language_info": {
   "codemirror_mode": {
    "name": "ipython",
    "version": 3
   },
   "file_extension": ".py",
   "mimetype": "text/x-python",
   "name": "python",
   "nbconvert_exporter": "python",
   "pygments_lexer": "ipython3",
   "version": "3.8.10"
  },
  "orig_nbformat": 4,
  "vscode": {
   "interpreter": {
    "hash": "916dbcbb3f70747c44a77c7bcd40155683ae19c65e1c03b4aa3499c5328201f1"
   }
  }
 },
 "nbformat": 4,
 "nbformat_minor": 2
}
